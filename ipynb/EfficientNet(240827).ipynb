{
 "cells": [
  {
   "cell_type": "code",
   "execution_count": 1,
   "id": "04a43e3c-8b31-4fc0-89ad-eb39ecc5ccb2",
   "metadata": {},
   "outputs": [],
   "source": [
    "import torch\n",
    "from torch import Tensor, nn\n",
    "from torchinfo import summary"
   ]
  },
  {
   "cell_type": "markdown",
   "id": "3d510123-3aee-4598-9823-9e43c9ab12b6",
   "metadata": {},
   "source": [
    "* EfficientNet\n",
    "* 논문 : https://arxiv.org/pdf/1905.11946\n",
    "* 참조 : https://deep-learning-study.tistory.com/552"
   ]
  },
  {
   "cell_type": "markdown",
   "id": "fa0bb21e-3860-4279-84fe-b32cbdf5a0cc",
   "metadata": {},
   "source": [
    "* width : 넓이\n",
    "* depth : 깊이\n",
    "* resolution : 해상도"
   ]
  },
  {
   "cell_type": "code",
   "execution_count": null,
   "id": "0e13c112-caa4-4e48-9d46-0b7b2c8d984f",
   "metadata": {},
   "outputs": [],
   "source": []
  },
  {
   "cell_type": "code",
   "execution_count": null,
   "id": "d5bde4b0-8c1b-4830-87ba-c11af7686593",
   "metadata": {},
   "outputs": [],
   "source": []
  }
 ],
 "metadata": {
  "kernelspec": {
   "display_name": "DS_kernel",
   "language": "python",
   "name": "ds_env"
  },
  "language_info": {
   "codemirror_mode": {
    "name": "ipython",
    "version": 3
   },
   "file_extension": ".py",
   "mimetype": "text/x-python",
   "name": "python",
   "nbconvert_exporter": "python",
   "pygments_lexer": "ipython3",
   "version": "3.10.14"
  }
 },
 "nbformat": 4,
 "nbformat_minor": 5
}
