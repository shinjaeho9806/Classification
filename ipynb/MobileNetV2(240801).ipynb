{
 "cells": [
  {
   "cell_type": "markdown",
   "id": "0ad9483a-58c9-4a92-a5e9-2b77bb3bec0b",
   "metadata": {},
   "source": [
    "* mobilenetV2\n",
    "* 논문 : https://arxiv.org/pdf/1801.04381"
   ]
  },
  {
   "cell_type": "code",
   "execution_count": 3,
   "id": "d993010d-0f20-485e-bb2b-b3a4fb74bc93",
   "metadata": {},
   "outputs": [],
   "source": [
    "import torch\n",
    "from torch import nn, Tensor\n",
    "from torchinfo import summary\n",
    "import math"
   ]
  },
  {
   "cell_type": "markdown",
   "id": "152f04e3-9208-4c10-9a7b-85ea7c206866",
   "metadata": {},
   "source": [
    "<img src = 'https://velog.velcdn.com/images/krec7748/post/9585fac0-a031-4842-99b4-19965987423e/image.png'>"
   ]
  },
  {
   "cell_type": "code",
   "execution_count": 22,
   "id": "3281a806-5fa1-41fa-a76d-e377e5392022",
   "metadata": {},
   "outputs": [
    {
     "name": "stdout",
     "output_type": "stream",
     "text": [
      "8\n"
     ]
    }
   ],
   "source": [
    "def _make_divisible(v, divisor, min_value = None):\n",
    "    '''\n",
    "    모든 채널이 8로 나누어 질수 있도록!!\n",
    "    '''\n",
    "    if min_value is None:\n",
    "        min_value = divisor\n",
    "    new_value = max(min_value, int(v + divisor / 2) // divisor * divisor)\n",
    "    if new_value < .9 * new_value:\n",
    "        new_value += divisor\n",
    "    return new_value\n",
    "\n",
    "width_mult = 0.35\n",
    "print(_make_divisible(32 * width_mult, 4 if 0.1 == width_mult else 8))"
   ]
  },
  {
   "cell_type": "code",
   "execution_count": 32,
   "id": "9ff3516a-7148-4359-972d-636ff7b5066f",
   "metadata": {},
   "outputs": [],
   "source": [
    "# base Conv 1X1, 3X3\n",
    "def conv_3x3_bn(in_channels, out_channels, stride):\n",
    "    block = nn.Sequential(\n",
    "        nn.Conv2d(in_channels, out_channels, kernel_size = 3, stride = stride, padding = 1, bias = False),\n",
    "        nn.BatchNorm2d(out_channels),\n",
    "        nn.ReLU(inplace = True)\n",
    "    )\n",
    "    return block\n",
    "\n",
    "def conv_1x1_bn(in_channels, out_channels):\n",
    "    block = nn.Sequential(\n",
    "        nn.Conv2d(in_channels, out_channels, kernel_size = 1, stride = 1, padding = 0, bias = False),\n",
    "        nn.BatchNorm2d(out_channels),\n",
    "        nn.ReLU(inplace = True)\n",
    "    )\n",
    "    return block"
   ]
  },
  {
   "cell_type": "markdown",
   "id": "87b3f68d-acdc-4bbe-bc9d-7e07f11c667f",
   "metadata": {},
   "source": [
    "<img src = 'https://miro.medium.com/v2/resize:fit:720/format:webp/0*iddKNZmg0_Dz_OuS'>"
   ]
  },
  {
   "cell_type": "code",
   "execution_count": 54,
   "id": "cc6563ed-f798-417f-988d-32b56560447e",
   "metadata": {},
   "outputs": [],
   "source": [
    "class InvertedResidual(nn.Module):\n",
    "    '''\n",
    "    hyper_parameter\n",
    "    * expand ratio -> t\n",
    "    '''\n",
    "    def __init__(self, in_channels, out_channels, stride, t):\n",
    "        super().__init__()\n",
    "        assert stride in [1,2]\n",
    "        \n",
    "        hidden_channels = round(in_channels * t)\n",
    "        # True / False skip connection 사용 유무, 채널수 변화로 확인\n",
    "        self.identity = stride == 1 and in_channels == out_channels\n",
    "        \n",
    "        if t == 1:\n",
    "            self.block = nn.Sequential(\n",
    "                # depthwise\n",
    "                nn.Conv2d(hidden_channels, hidden_channels, kernel_size = 3, stride = stride, padding = 1, groups = in_channels, bias = False),\n",
    "                nn.BatchNorm2d(hidden_channels),\n",
    "                nn.ReLU6(inplace = True),\n",
    "                # pointwise-linear\n",
    "                nn.Conv2d(hidden_channels, out_channels, kernel_size = 1, stride = 1, padding = 0, bias = False),\n",
    "                nn.BatchNorm2d(out_channels)\n",
    "            )\n",
    "        else:\n",
    "            self.block = nn.Sequential(\n",
    "                # pointwise\n",
    "                nn.Conv2d(in_channels, hidden_channels, kernel_size = 1, stride = 1, padding = 0, bias = False),\n",
    "                nn.BatchNorm2d(hidden_channels),\n",
    "                nn.ReLU6(inplace = True),\n",
    "                # depthwise\n",
    "                nn.Conv2d(hidden_channels, hidden_channels, kernel_size = 3, stride = stride, padding = 1, groups = hidden_channels, bias = False),\n",
    "                nn.BatchNorm2d(hidden_channels),\n",
    "                nn.ReLU6(inplace = True),\n",
    "                # pointwise-linear\n",
    "                nn.Conv2d(hidden_channels, out_channels, kernel_size = 1, stride = 1, padding = 0, bias = False),\n",
    "                nn.BatchNorm2d(out_channels)\n",
    "            )\n",
    "        \n",
    "    def forward(self, x):\n",
    "        if self.identity:\n",
    "            return self.block(x) + x\n",
    "        else:\n",
    "            return self.block(x)"
   ]
  },
  {
   "cell_type": "code",
   "execution_count": 55,
   "id": "46c6bfb1-5430-4ddf-b473-feca878ec13d",
   "metadata": {},
   "outputs": [
    {
     "name": "stdout",
     "output_type": "stream",
     "text": [
      "True\n",
      "False\n"
     ]
    }
   ],
   "source": [
    "k = 1\n",
    "n = 1 == 1 and 32 == 32\n",
    "print(n)\n",
    "n = 1 == 1 and 32 == 64\n",
    "print(n)"
   ]
  },
  {
   "cell_type": "code",
   "execution_count": 56,
   "id": "55612930-d0e2-4258-9dfe-8a59da745ba0",
   "metadata": {},
   "outputs": [],
   "source": [
    "class MobileNetV2(nn.Module):\n",
    "    '''\n",
    "    hyper_parameter \n",
    "    * expand ratio -> t\n",
    "    * width multiplier -> alpha\n",
    "    * resolution multiplier -> roh\n",
    "    '''\n",
    "    def __init__(self, num_classes, t = 1, alpha = 1.):\n",
    "        super().__init__()\n",
    "        self.cfgs = [\n",
    "            # t, c, n, s -> expansion_factor, out_channels, 반복수, stride\n",
    "            [1,16,1,1],\n",
    "            [6,24,2,2],\n",
    "            [6,32,3,2],\n",
    "            [6,64,4,2],\n",
    "            [6,96,3,1],\n",
    "            [6,160,3,2],\n",
    "            [6,320,1,1]\n",
    "        ]\n",
    "        \n",
    "        in_channels = _make_divisible(32 * alpha, 4 if alpha == 0.1 else 8)\n",
    "        self.conv1 = conv_3x3_bn(3, in_channels, 2)\n",
    "        layers = []\n",
    "        block = InvertedResidual\n",
    "        for t, c, n, s in self.cfgs:\n",
    "            out_channels = _make_divisible(c * alpha, 4 if alpha == 0.1 else 8)\n",
    "            for i in range(n):\n",
    "                layers.append(block(in_channels, out_channels, s if i == 0 else 1, t))\n",
    "                in_channels = out_channels\n",
    "        self.bottleneck = nn.Sequential(*layers)\n",
    "        out_channels = _make_divisible(1280 * alpha, 4 if alpha == 0.1 else 8)\n",
    "        self.conv2 = conv_1x1_bn(in_channels, out_channels)\n",
    "        self.avg = nn.AdaptiveAvgPool2d((1,1))\n",
    "        self.fc = nn.Sequential(\n",
    "            nn.Dropout(0.3),\n",
    "            nn.Linear(out_channels, num_classes)\n",
    "        )\n",
    "        self._init_layers()\n",
    "            \n",
    "    def _make_divisible(v, divisor, min_value = None):\n",
    "        '''\n",
    "        모든 채널이 8로 나누어 질수 있도록!!\n",
    "        '''\n",
    "        if min_value is None:\n",
    "            min_value = divisor\n",
    "        new_value = max(min_value, int(v + divisor / 2) // divisor * divisor)\n",
    "        if new_value < .9 * new_value:\n",
    "            new_value += divisor\n",
    "        return new_value\n",
    "        \n",
    "    def _init_layers(self):\n",
    "        pass\n",
    "    \n",
    "    def forward(self, x):\n",
    "        out = self.conv1(x)\n",
    "        out = self.bottleneck(out)\n",
    "        out = self.conv2(out)\n",
    "        out = self.avg(out)\n",
    "        out = torch.flatten(out,1)\n",
    "        out = self.fc(out)\n",
    "        return out"
   ]
  },
  {
   "cell_type": "code",
   "execution_count": 57,
   "id": "e07c881a-0ef1-432e-8dd6-740709fea5db",
   "metadata": {
    "scrolled": true
   },
   "outputs": [
    {
     "data": {
      "text/plain": [
       "==========================================================================================\n",
       "Layer (type:depth-idx)                   Output Shape              Param #\n",
       "==========================================================================================\n",
       "MobileNetV2                              [1, 1000]                 --\n",
       "├─Sequential: 1-1                        [1, 32, 112, 112]         --\n",
       "│    └─Conv2d: 2-1                       [1, 32, 112, 112]         864\n",
       "│    └─BatchNorm2d: 2-2                  [1, 32, 112, 112]         64\n",
       "│    └─ReLU: 2-3                         [1, 32, 112, 112]         --\n",
       "├─Sequential: 1-2                        [1, 320, 7, 7]            --\n",
       "│    └─InvertedResidual: 2-4             [1, 16, 112, 112]         --\n",
       "│    │    └─Sequential: 3-1              [1, 16, 112, 112]         896\n",
       "│    └─InvertedResidual: 2-5             [1, 24, 56, 56]           --\n",
       "│    │    └─Sequential: 3-2              [1, 24, 56, 56]           5,136\n",
       "│    └─InvertedResidual: 2-6             [1, 24, 56, 56]           --\n",
       "│    │    └─Sequential: 3-3              [1, 24, 56, 56]           8,832\n",
       "│    └─InvertedResidual: 2-7             [1, 32, 28, 28]           --\n",
       "│    │    └─Sequential: 3-4              [1, 32, 28, 28]           10,000\n",
       "│    └─InvertedResidual: 2-8             [1, 32, 28, 28]           --\n",
       "│    │    └─Sequential: 3-5              [1, 32, 28, 28]           14,848\n",
       "│    └─InvertedResidual: 2-9             [1, 32, 28, 28]           --\n",
       "│    │    └─Sequential: 3-6              [1, 32, 28, 28]           14,848\n",
       "│    └─InvertedResidual: 2-10            [1, 64, 14, 14]           --\n",
       "│    │    └─Sequential: 3-7              [1, 64, 14, 14]           21,056\n",
       "│    └─InvertedResidual: 2-11            [1, 64, 14, 14]           --\n",
       "│    │    └─Sequential: 3-8              [1, 64, 14, 14]           54,272\n",
       "│    └─InvertedResidual: 2-12            [1, 64, 14, 14]           --\n",
       "│    │    └─Sequential: 3-9              [1, 64, 14, 14]           54,272\n",
       "│    └─InvertedResidual: 2-13            [1, 64, 14, 14]           --\n",
       "│    │    └─Sequential: 3-10             [1, 64, 14, 14]           54,272\n",
       "│    └─InvertedResidual: 2-14            [1, 96, 14, 14]           --\n",
       "│    │    └─Sequential: 3-11             [1, 96, 14, 14]           66,624\n",
       "│    └─InvertedResidual: 2-15            [1, 96, 14, 14]           --\n",
       "│    │    └─Sequential: 3-12             [1, 96, 14, 14]           118,272\n",
       "│    └─InvertedResidual: 2-16            [1, 96, 14, 14]           --\n",
       "│    │    └─Sequential: 3-13             [1, 96, 14, 14]           118,272\n",
       "│    └─InvertedResidual: 2-17            [1, 160, 7, 7]            --\n",
       "│    │    └─Sequential: 3-14             [1, 160, 7, 7]            155,264\n",
       "│    └─InvertedResidual: 2-18            [1, 160, 7, 7]            --\n",
       "│    │    └─Sequential: 3-15             [1, 160, 7, 7]            320,000\n",
       "│    └─InvertedResidual: 2-19            [1, 160, 7, 7]            --\n",
       "│    │    └─Sequential: 3-16             [1, 160, 7, 7]            320,000\n",
       "│    └─InvertedResidual: 2-20            [1, 320, 7, 7]            --\n",
       "│    │    └─Sequential: 3-17             [1, 320, 7, 7]            473,920\n",
       "├─Sequential: 1-3                        [1, 1280, 7, 7]           --\n",
       "│    └─Conv2d: 2-21                      [1, 1280, 7, 7]           409,600\n",
       "│    └─BatchNorm2d: 2-22                 [1, 1280, 7, 7]           2,560\n",
       "│    └─ReLU: 2-23                        [1, 1280, 7, 7]           --\n",
       "├─AdaptiveAvgPool2d: 1-4                 [1, 1280, 1, 1]           --\n",
       "├─Sequential: 1-5                        [1, 1000]                 --\n",
       "│    └─Dropout: 2-24                     [1, 1280]                 --\n",
       "│    └─Linear: 2-25                      [1, 1000]                 1,281,000\n",
       "==========================================================================================\n",
       "Total params: 3,504,872\n",
       "Trainable params: 3,504,872\n",
       "Non-trainable params: 0\n",
       "Total mult-adds (M): 300.81\n",
       "==========================================================================================\n",
       "Input size (MB): 0.60\n",
       "Forward/backward pass size (MB): 106.86\n",
       "Params size (MB): 14.02\n",
       "Estimated Total Size (MB): 121.48\n",
       "=========================================================================================="
      ]
     },
     "execution_count": 57,
     "metadata": {},
     "output_type": "execute_result"
    }
   ],
   "source": [
    "model = MobileNetV2(num_classes = 1000)\n",
    "summary(model, (1,3,224,224), device = 'cpu')"
   ]
  },
  {
   "cell_type": "code",
   "execution_count": 58,
   "id": "2c0fc9d0-2419-4d1b-9b82-07835d36e140",
   "metadata": {
    "scrolled": true
   },
   "outputs": [
    {
     "data": {
      "text/plain": [
       "====================================================================================================\n",
       "Layer (type:depth-idx)                             Output Shape              Param #\n",
       "====================================================================================================\n",
       "MobileNetV2                                        [1, 1000]                 --\n",
       "├─Sequential: 1-1                                  [1, 1280, 7, 7]           --\n",
       "│    └─Conv2dNormActivation: 2-1                   [1, 32, 112, 112]         --\n",
       "│    │    └─Conv2d: 3-1                            [1, 32, 112, 112]         864\n",
       "│    │    └─BatchNorm2d: 3-2                       [1, 32, 112, 112]         64\n",
       "│    │    └─ReLU6: 3-3                             [1, 32, 112, 112]         --\n",
       "│    └─InvertedResidual: 2-2                       [1, 16, 112, 112]         --\n",
       "│    │    └─Sequential: 3-4                        [1, 16, 112, 112]         896\n",
       "│    └─InvertedResidual: 2-3                       [1, 24, 56, 56]           --\n",
       "│    │    └─Sequential: 3-5                        [1, 24, 56, 56]           5,136\n",
       "│    └─InvertedResidual: 2-4                       [1, 24, 56, 56]           --\n",
       "│    │    └─Sequential: 3-6                        [1, 24, 56, 56]           8,832\n",
       "│    └─InvertedResidual: 2-5                       [1, 32, 28, 28]           --\n",
       "│    │    └─Sequential: 3-7                        [1, 32, 28, 28]           10,000\n",
       "│    └─InvertedResidual: 2-6                       [1, 32, 28, 28]           --\n",
       "│    │    └─Sequential: 3-8                        [1, 32, 28, 28]           14,848\n",
       "│    └─InvertedResidual: 2-7                       [1, 32, 28, 28]           --\n",
       "│    │    └─Sequential: 3-9                        [1, 32, 28, 28]           14,848\n",
       "│    └─InvertedResidual: 2-8                       [1, 64, 14, 14]           --\n",
       "│    │    └─Sequential: 3-10                       [1, 64, 14, 14]           21,056\n",
       "│    └─InvertedResidual: 2-9                       [1, 64, 14, 14]           --\n",
       "│    │    └─Sequential: 3-11                       [1, 64, 14, 14]           54,272\n",
       "│    └─InvertedResidual: 2-10                      [1, 64, 14, 14]           --\n",
       "│    │    └─Sequential: 3-12                       [1, 64, 14, 14]           54,272\n",
       "│    └─InvertedResidual: 2-11                      [1, 64, 14, 14]           --\n",
       "│    │    └─Sequential: 3-13                       [1, 64, 14, 14]           54,272\n",
       "│    └─InvertedResidual: 2-12                      [1, 96, 14, 14]           --\n",
       "│    │    └─Sequential: 3-14                       [1, 96, 14, 14]           66,624\n",
       "│    └─InvertedResidual: 2-13                      [1, 96, 14, 14]           --\n",
       "│    │    └─Sequential: 3-15                       [1, 96, 14, 14]           118,272\n",
       "│    └─InvertedResidual: 2-14                      [1, 96, 14, 14]           --\n",
       "│    │    └─Sequential: 3-16                       [1, 96, 14, 14]           118,272\n",
       "│    └─InvertedResidual: 2-15                      [1, 160, 7, 7]            --\n",
       "│    │    └─Sequential: 3-17                       [1, 160, 7, 7]            155,264\n",
       "│    └─InvertedResidual: 2-16                      [1, 160, 7, 7]            --\n",
       "│    │    └─Sequential: 3-18                       [1, 160, 7, 7]            320,000\n",
       "│    └─InvertedResidual: 2-17                      [1, 160, 7, 7]            --\n",
       "│    │    └─Sequential: 3-19                       [1, 160, 7, 7]            320,000\n",
       "│    └─InvertedResidual: 2-18                      [1, 320, 7, 7]            --\n",
       "│    │    └─Sequential: 3-20                       [1, 320, 7, 7]            473,920\n",
       "│    └─Conv2dNormActivation: 2-19                  [1, 1280, 7, 7]           --\n",
       "│    │    └─Conv2d: 3-21                           [1, 1280, 7, 7]           409,600\n",
       "│    │    └─BatchNorm2d: 3-22                      [1, 1280, 7, 7]           2,560\n",
       "│    │    └─ReLU6: 3-23                            [1, 1280, 7, 7]           --\n",
       "├─Sequential: 1-2                                  [1, 1000]                 --\n",
       "│    └─Dropout: 2-20                               [1, 1280]                 --\n",
       "│    └─Linear: 2-21                                [1, 1000]                 1,281,000\n",
       "====================================================================================================\n",
       "Total params: 3,504,872\n",
       "Trainable params: 3,504,872\n",
       "Non-trainable params: 0\n",
       "Total mult-adds (M): 300.81\n",
       "====================================================================================================\n",
       "Input size (MB): 0.60\n",
       "Forward/backward pass size (MB): 106.86\n",
       "Params size (MB): 14.02\n",
       "Estimated Total Size (MB): 121.48\n",
       "===================================================================================================="
      ]
     },
     "execution_count": 58,
     "metadata": {},
     "output_type": "execute_result"
    }
   ],
   "source": [
    "from torchvision.models import mobilenet_v2\n",
    "model = mobilenet_v2()\n",
    "summary(model, (1,3,224,224), device = 'cpu')"
   ]
  }
 ],
 "metadata": {
  "kernelspec": {
   "display_name": "DS_kernel",
   "language": "python",
   "name": "ds_env"
  },
  "language_info": {
   "codemirror_mode": {
    "name": "ipython",
    "version": 3
   },
   "file_extension": ".py",
   "mimetype": "text/x-python",
   "name": "python",
   "nbconvert_exporter": "python",
   "pygments_lexer": "ipython3",
   "version": "3.10.14"
  }
 },
 "nbformat": 4,
 "nbformat_minor": 5
}
