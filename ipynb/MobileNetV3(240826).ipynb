{
 "cells": [
  {
   "cell_type": "code",
   "execution_count": 1,
   "id": "33bb4fbd-125a-486b-9d10-882d6a845061",
   "metadata": {},
   "outputs": [],
   "source": [
    "import torch\n",
    "from torch import nn, Tensor\n",
    "from torchinfo import summary"
   ]
  },
  {
   "cell_type": "markdown",
   "id": "6a8c1783-ff9c-44ec-a13b-5c269a19f4de",
   "metadata": {},
   "source": [
    "* MobileNetV3(2019)\n",
    "* 논문링크 : https://arxiv.org/pdf/1905.02244\n",
    "* 참조링크 : https://github.com/d-li14/mobilenetv3.pytorch/blob/master/mobilenetv3.py"
   ]
  },
  {
   "cell_type": "code",
   "execution_count": 2,
   "id": "3c355aa1-c5fa-4d3e-a7ec-fa381a0d3775",
   "metadata": {},
   "outputs": [
    {
     "data": {
      "text/plain": [
       "8"
      ]
     },
     "execution_count": 2,
     "metadata": {},
     "output_type": "execute_result"
    }
   ],
   "source": [
    "def _make_divisible(v, divisor, min_value = None):\n",
    "    if min_value is None:\n",
    "        min_value = divisor\n",
    "    \n",
    "    new_v = max(min_value, int(v + divisor / 2) // divisor * divisor)\n",
    "    \n",
    "    if new_v < 0.9 * v:\n",
    "        new_v += divisor\n",
    "    return new_v\n",
    "\n",
    "_make_divisible(32 // 4, 8)"
   ]
  },
  {
   "attachments": {},
   "cell_type": "markdown",
   "id": "f791ef8a-7206-4199-8083-602a1d525182",
   "metadata": {},
   "source": [
    "<img src = 'https://velog.velcdn.com/images/pre_f_86/post/34a8cfb1-80cf-4b44-a989-bb4438932999/image.PNG'>"
   ]
  },
  {
   "cell_type": "code",
   "execution_count": 5,
   "id": "86621997-bec5-4388-8cf6-57caf80f6dc3",
   "metadata": {},
   "outputs": [
    {
     "data": {
      "text/plain": [
       "tensor([0.6667])"
      ]
     },
     "execution_count": 5,
     "metadata": {},
     "output_type": "execute_result"
    }
   ],
   "source": [
    "class h_relu6(nn.Module):\n",
    "    '''\n",
    "    h_relu = relu6(x + 3) / 6\n",
    "    '''\n",
    "    def __init__(self, ):\n",
    "        super().__init__()\n",
    "        self.relu = nn.ReLU6()\n",
    "    def forward(self, x):\n",
    "        return self.relu(x + 3) / 6\n",
    "\n",
    "class h_swish(nn.Module):\n",
    "    '''\n",
    "    * mobilenetv3에서 제안한 h_swish\n",
    "    * h_swish = x * h_relu6\n",
    "    '''\n",
    "    def __init__(self, ):\n",
    "        super().__init__()\n",
    "        self.sigmoid = h_relu6()\n",
    "    def forward(self, x):\n",
    "        return x * self.sigmoid(x)\n",
    "\n",
    "hswish = h_swish()\n",
    "hswish(torch.Tensor([1]))"
   ]
  },
  {
   "cell_type": "markdown",
   "id": "5ccc1ce8-4f74-4af9-afac-f8e218ad4ee8",
   "metadata": {},
   "source": [
    "<img src = 'https://img1.daumcdn.net/thumb/R1280x0/?scode=mtistory2&fname=https%3A%2F%2Fblog.kakaocdn.net%2Fdn%2FczppZ9%2Fbtq0A3bDlIZ%2FXRBEd9rp8rK9Tksnx6vUQ0%2Fimg.png'>"
   ]
  },
  {
   "cell_type": "code",
   "execution_count": 18,
   "id": "ae5f1569-acc3-4763-82a3-5e926c5c8187",
   "metadata": {},
   "outputs": [
    {
     "data": {
      "text/plain": [
       "torch.Size([1, 64])"
      ]
     },
     "execution_count": 18,
     "metadata": {},
     "output_type": "execute_result"
    }
   ],
   "source": [
    "torch.rand((1,64,1,1)).view(1,-1).size()"
   ]
  },
  {
   "cell_type": "code",
   "execution_count": 6,
   "id": "4209f9f6-de91-47ef-b0c3-311388923eb6",
   "metadata": {
    "scrolled": true
   },
   "outputs": [
    {
     "data": {
      "text/plain": [
       "tensor([[[[2., 2., 2.],\n",
       "          [2., 2., 2.],\n",
       "          [2., 2., 2.]],\n",
       "\n",
       "         [[2., 2., 2.],\n",
       "          [2., 2., 2.],\n",
       "          [2., 2., 2.]]]])"
      ]
     },
     "execution_count": 6,
     "metadata": {},
     "output_type": "execute_result"
    }
   ],
   "source": [
    "class SELayer(nn.Module):\n",
    "    def __init__(self, in_channel, reduction = 4):\n",
    "        super().__init__()\n",
    "        self.squeeze = nn.AdaptiveAvgPool2d((1,1))\n",
    "        self.excitation = nn.Sequential(\n",
    "            nn.Linear(in_channel, _make_divisible(in_channel // reduction, 8)),\n",
    "            nn.ReLU(),\n",
    "            nn.Linear(_make_divisible(in_channel // reduction, 8) ,in_channel),\n",
    "            h_relu6()\n",
    "        )\n",
    "    \n",
    "    def forward(self, x):\n",
    "        b, c, _, _ = x.size()\n",
    "        out = self.squeeze(x).view(b,-1)\n",
    "        out = self.excitation(out).view(b,c,1,1)\n",
    "        return x * out\n",
    "\n",
    "torch.ones((1,2,3,3)) * torch.ones((1,2)).view(1,2,1,1) * 2"
   ]
  },
  {
   "cell_type": "code",
   "execution_count": 7,
   "id": "2647280b-a0b1-4d17-a174-5cf751530892",
   "metadata": {},
   "outputs": [],
   "source": [
    "def conv_3x3_bn(in_channels, out_channels, stride):\n",
    "    return nn.Sequential(\n",
    "        nn.Conv2d(in_channels, out_channels, kernel_size = 3, stride = stride, padding = 1, bias = False),\n",
    "        nn.BatchNorm2d(out_channels),\n",
    "        h_swish()\n",
    "    )\n",
    "\n",
    "def conv_1x1_bn(in_channels, out_channels):\n",
    "    return nn.Sequential(\n",
    "        nn.Conv2d(in_channels, out_channels, kernel_size = 1, stride = 1, padding = 1, bias = False),\n",
    "        nn.BatchNorm2d(out_channels),\n",
    "        h_swish()\n",
    "    )"
   ]
  },
  {
   "cell_type": "markdown",
   "id": "f5f743a9-654c-49a1-a8eb-ad35d2e105c0",
   "metadata": {},
   "source": [
    "<img src = 'https://velog.velcdn.com/images/pre_f_86/post/604af1a4-21c9-42ce-9d70-8bf3c74dc1d0/image.PNG'>"
   ]
  },
  {
   "cell_type": "code",
   "execution_count": 8,
   "id": "041ac836-915b-460a-865e-9f037a07c2e8",
   "metadata": {},
   "outputs": [],
   "source": [
    "class InvertedResidual(nn.Module):\n",
    "    def __init__(self, in_channels, inner_channels, out_channels, kernel_size, stride, use_se, use_hs):\n",
    "        super().__init__()\n",
    "        assert stride in [1,2]\n",
    "        \n",
    "        self.identity = stride == 1 and in_channels == out_channels\n",
    "        \n",
    "        if in_channels == inner_channels:\n",
    "            self.conv = nn.Sequential(\n",
    "                nn.Conv2d(in_channels, inner_channels, kernel_size = kernel_size, stride = stride, padding = (kernel_size - 1) // 2, groups = inner_channels, bias = False),\n",
    "                nn.BatchNorm2d(inner_channels),\n",
    "                h_swish() if use_hs else nn.ReLU(),\n",
    "                SELayer(inner_channels) if use_se else nn.Identity(),\n",
    "                nn.Conv2d(inner_channels, out_channels, kernel_size = 1, stride = 1, padding = 0, bias = False),\n",
    "                nn.BatchNorm2d(out_channels)\n",
    "            )\n",
    "        else:\n",
    "            self.conv = nn.Sequential(\n",
    "                nn.Conv2d(in_channels, inner_channels, kernel_size = 1, stride = 1, padding = 0, bias = False),\n",
    "                nn.BatchNorm2d(inner_channels),\n",
    "                h_swish() if use_hs else nn.ReLU(),\n",
    "                nn.Conv2d(inner_channels, inner_channels, kernel_size = kernel_size, stride = stride, padding = (kernel_size - 1) // 2, groups = inner_channels, bias = False),\n",
    "                nn.BatchNorm2d(inner_channels),\n",
    "                SELayer(inner_channels) if use_se else nn.Identity(),\n",
    "                h_swish() if use_hs else nn.ReLU(),\n",
    "                nn.Conv2d(inner_channels, out_channels, kernel_size = 1, stride = 1, padding = 0, bias = False),\n",
    "                nn.BatchNorm2d(out_channels)\n",
    "            )\n",
    "            \n",
    "    def forward(self, x):\n",
    "        if self.identity:\n",
    "            return x + self.conv(x)\n",
    "        else:\n",
    "            return self.conv(x)"
   ]
  },
  {
   "cell_type": "code",
   "execution_count": 9,
   "id": "9a9fee0f-747b-4772-a17f-5d683429a0b5",
   "metadata": {},
   "outputs": [
    {
     "data": {
      "text/plain": [
       "tensor([ 1., 64.,  8.,  8.])"
      ]
     },
     "execution_count": 9,
     "metadata": {},
     "output_type": "execute_result"
    }
   ],
   "source": [
    "identity = nn.Identity()\n",
    "identity(torch.Tensor((1,64,8,8)))"
   ]
  },
  {
   "attachments": {},
   "cell_type": "markdown",
   "id": "5c7db50f-4be5-4999-a104-69ed106cc9c9",
   "metadata": {},
   "source": [
    "<img src = 'https://velog.velcdn.com/images/pre_f_86/post/47890b15-1f1e-43f9-84d3-40892b08aee2/image.PNG'>"
   ]
  },
  {
   "cell_type": "code",
   "execution_count": 10,
   "id": "7d2ac9d6-aae4-409b-93f6-48709086b188",
   "metadata": {},
   "outputs": [],
   "source": [
    "class MobileNetV3(nn.Module):\n",
    "    '''\n",
    "    width_mult = MobileNetV1의 alpha와 같은 역할\n",
    "    '''\n",
    "    def __init__(self, cfgs, mode, num_classes = 1000, width_mult = 1., block = InvertedResidual):\n",
    "        super().__init__()\n",
    "        self.cfgs = cfgs\n",
    "        assert mode in ['large', 'small']\n",
    "        \n",
    "        inner_channels = _make_divisible(16 * width_mult, 8)\n",
    "        layers = [conv_3x3_bn(3, inner_channels, stride = 2)]\n",
    "        for k, t, c, use_se, use_hs, s in self.cfgs:\n",
    "            '''\n",
    "            k = kernel_size\n",
    "            t = 확장계수\n",
    "            c = out_channels\n",
    "            use_se, use_hs = SELayer, H_Swish사용유무\n",
    "            s = stride\n",
    "            '''\n",
    "            out_channels = _make_divisible(c * width_mult, 8)\n",
    "            exp_size = _make_divisible(inner_channels * t, 8)\n",
    "            layers.append(\n",
    "                block(in_channels = inner_channels, \n",
    "                      inner_channels = exp_size,\n",
    "                      out_channels = out_channels, \n",
    "                      kernel_size = k, stride = s, \n",
    "                      use_se = use_se, use_hs = use_hs)\n",
    "            )\n",
    "            inner_channels = out_channels\n",
    "        self.block = nn.Sequential(*layers)\n",
    "        self.last_conv = conv_1x1_bn(inner_channels, exp_size)\n",
    "        self.avg = nn.AdaptiveAvgPool2d((1,1))\n",
    "        out_channels = {'large' : 1280, 'small' : 1024}\n",
    "        out_channels = _make_divisible(out_channels[mode] * width_mult, 8) if width_mult > 1. else out_channels[mode]\n",
    "        self.fc = nn.Sequential(\n",
    "            nn.Linear(exp_size, out_channels),\n",
    "            h_swish(),\n",
    "            nn.Dropout(0.2),\n",
    "            nn.Linear(out_channels, num_classes)\n",
    "        )\n",
    "        self._init_layers()\n",
    "    \n",
    "    def _init_layers(self):\n",
    "        for m in self.modules():\n",
    "            if isinstance(m, nn.Conv2d):\n",
    "                nn.init.kaiming_normal_(m.weight, mode = 'fan_out', nonlinearity = 'relu')\n",
    "                if m.bias is not None:\n",
    "                    nn.init.constant_(m.bias, 0)\n",
    "            elif isinstance(m, nn.BatchNorm2d):\n",
    "                nn.init.constant_(m.weight, 1)\n",
    "                nn.init.constant_(m.bias, 0)\n",
    "            elif isinstance(m, nn.Linear):\n",
    "                nn.init.normal_(m.weight, 0, 0.01)\n",
    "                nn.init.constant_(m.bias, 0)\n",
    "    def forward(self,x):\n",
    "        out = self.block(x)\n",
    "        out = self.last_conv(out)\n",
    "        out = self.avg(out)\n",
    "        out = torch.flatten(out, 1)\n",
    "        out = self.fc(out)\n",
    "        return out"
   ]
  },
  {
   "cell_type": "code",
   "execution_count": 11,
   "id": "42de64ff-d83b-4c0e-a6e2-8a0d96295b18",
   "metadata": {},
   "outputs": [],
   "source": [
    "def mobilenetv3_large(**kwargs):\n",
    "    cfgs = [\n",
    "        # kernel_size, t, out_channels, SE, HS, stride\n",
    "        [3,   1,  16, False, False, 1],\n",
    "        [3,   4,  24, False, False, 2],\n",
    "        [3,   3,  24, False, False, 1],\n",
    "        [5,   3,  40, True, False, 2],\n",
    "        [5,   3,  40, True, False, 1],\n",
    "        [5,   3,  40, True, False, 1],\n",
    "        [3,   6,  80, False, True, 2],\n",
    "        [3, 2.5,  80, False, True, 1],\n",
    "        [3, 2.3,  80, False, True, 1],\n",
    "        [3, 2.3,  80, False, True, 1],\n",
    "        [3,   6, 112, True, True, 1],\n",
    "        [3,   6, 112, True, True, 1],\n",
    "        [5,   6, 160, True, True, 2],\n",
    "        [5,   6, 160, True, True, 1],\n",
    "        [5,   6, 160, True, True, 1]\n",
    "    ]\n",
    "    return MobileNetV3(cfgs, mode = 'large', **kwargs)"
   ]
  },
  {
   "cell_type": "code",
   "execution_count": 12,
   "id": "6507770c-c739-4b13-af2e-b3265a3a81c8",
   "metadata": {},
   "outputs": [],
   "source": [
    "def mobilenetv3_small(**kwargs):\n",
    "    cfgs = [\n",
    "        # kernel_size, t, out_channels, SE, HS, stride\n",
    "        [3,    1,  16, True, False, 2],\n",
    "        [3,  4.5,  24, False, False, 2],\n",
    "        [3, 3.67,  24, False, False, 1],\n",
    "        [5,    4,  40, True, True, 2],\n",
    "        [5,    6,  40, True, True, 1],\n",
    "        [5,    6,  40, True, True, 1],\n",
    "        [5,    3,  48, True, True, 1],\n",
    "        [5,    3,  48, True, True, 1],\n",
    "        [5,    6,  96, True, True, 2],\n",
    "        [5,    6,  96, True, True, 1],\n",
    "        [5,    6,  96, True, True, 1]\n",
    "    ]\n",
    "    return MobileNetV3(cfgs, mode = 'small', **kwargs)"
   ]
  },
  {
   "cell_type": "code",
   "execution_count": 13,
   "id": "0488677b-e459-46a9-9e53-76c8c91915d1",
   "metadata": {
    "scrolled": true
   },
   "outputs": [
    {
     "data": {
      "text/plain": [
       "====================================================================================================\n",
       "Layer (type:depth-idx)                             Output Shape              Param #\n",
       "====================================================================================================\n",
       "MobileNetV3                                        [1, 1000]                 --\n",
       "├─Sequential: 1-1                                  [1, 160, 7, 7]            --\n",
       "│    └─Sequential: 2-1                             [1, 16, 112, 112]         --\n",
       "│    │    └─Conv2d: 3-1                            [1, 16, 112, 112]         432\n",
       "│    │    └─BatchNorm2d: 3-2                       [1, 16, 112, 112]         32\n",
       "│    │    └─h_swish: 3-3                           [1, 16, 112, 112]         --\n",
       "│    └─InvertedResidual: 2-2                       [1, 16, 112, 112]         --\n",
       "│    │    └─Sequential: 3-4                        [1, 16, 112, 112]         464\n",
       "│    └─InvertedResidual: 2-3                       [1, 24, 56, 56]           --\n",
       "│    │    └─Sequential: 3-5                        [1, 24, 56, 56]           3,440\n",
       "│    └─InvertedResidual: 2-4                       [1, 24, 56, 56]           --\n",
       "│    │    └─Sequential: 3-6                        [1, 24, 56, 56]           4,440\n",
       "│    └─InvertedResidual: 2-5                       [1, 40, 28, 28]           --\n",
       "│    │    └─Sequential: 3-7                        [1, 40, 28, 28]           10,328\n",
       "│    └─InvertedResidual: 2-6                       [1, 40, 28, 28]           --\n",
       "│    │    └─Sequential: 3-8                        [1, 40, 28, 28]           20,992\n",
       "│    └─InvertedResidual: 2-7                       [1, 40, 28, 28]           --\n",
       "│    │    └─Sequential: 3-9                        [1, 40, 28, 28]           20,992\n",
       "│    └─InvertedResidual: 2-8                       [1, 80, 14, 14]           --\n",
       "│    │    └─Sequential: 3-10                       [1, 80, 14, 14]           32,080\n",
       "│    └─InvertedResidual: 2-9                       [1, 80, 14, 14]           --\n",
       "│    │    └─Sequential: 3-11                       [1, 80, 14, 14]           34,760\n",
       "│    └─InvertedResidual: 2-10                      [1, 80, 14, 14]           --\n",
       "│    │    └─Sequential: 3-12                       [1, 80, 14, 14]           31,992\n",
       "│    └─InvertedResidual: 2-11                      [1, 80, 14, 14]           --\n",
       "│    │    └─Sequential: 3-13                       [1, 80, 14, 14]           31,992\n",
       "│    └─InvertedResidual: 2-12                      [1, 112, 14, 14]          --\n",
       "│    │    └─Sequential: 3-14                       [1, 112, 14, 14]          214,424\n",
       "│    └─InvertedResidual: 2-13                      [1, 112, 14, 14]          --\n",
       "│    │    └─Sequential: 3-15                       [1, 112, 14, 14]          386,120\n",
       "│    └─InvertedResidual: 2-14                      [1, 160, 7, 7]            --\n",
       "│    │    └─Sequential: 3-16                       [1, 160, 7, 7]            429,224\n",
       "│    └─InvertedResidual: 2-15                      [1, 160, 7, 7]            --\n",
       "│    │    └─Sequential: 3-17                       [1, 160, 7, 7]            797,360\n",
       "│    └─InvertedResidual: 2-16                      [1, 160, 7, 7]            --\n",
       "│    │    └─Sequential: 3-18                       [1, 160, 7, 7]            797,360\n",
       "├─Sequential: 1-2                                  [1, 960, 9, 9]            --\n",
       "│    └─Conv2d: 2-17                                [1, 960, 9, 9]            153,600\n",
       "│    └─BatchNorm2d: 2-18                           [1, 960, 9, 9]            1,920\n",
       "│    └─h_swish: 2-19                               [1, 960, 9, 9]            --\n",
       "│    │    └─h_relu6: 3-19                          [1, 960, 9, 9]            --\n",
       "├─AdaptiveAvgPool2d: 1-3                           [1, 960, 1, 1]            --\n",
       "├─Sequential: 1-4                                  [1, 1000]                 --\n",
       "│    └─Linear: 2-20                                [1, 1280]                 1,230,080\n",
       "│    └─h_swish: 2-21                               [1, 1280]                 --\n",
       "│    │    └─h_relu6: 3-20                          [1, 1280]                 --\n",
       "│    └─Dropout: 2-22                               [1, 1280]                 --\n",
       "│    └─Linear: 2-23                                [1, 1000]                 1,281,000\n",
       "====================================================================================================\n",
       "Total params: 5,483,032\n",
       "Trainable params: 5,483,032\n",
       "Non-trainable params: 0\n",
       "Total mult-adds (M): 221.54\n",
       "====================================================================================================\n",
       "Input size (MB): 0.60\n",
       "Forward/backward pass size (MB): 70.95\n",
       "Params size (MB): 21.93\n",
       "Estimated Total Size (MB): 93.48\n",
       "===================================================================================================="
      ]
     },
     "execution_count": 13,
     "metadata": {},
     "output_type": "execute_result"
    }
   ],
   "source": [
    "summary(mobilenetv3_large(), (1,3,224,224))"
   ]
  },
  {
   "cell_type": "code",
   "execution_count": 73,
   "id": "2452cf5c-f15b-40db-8d46-00fd7e5a24fd",
   "metadata": {
    "scrolled": true
   },
   "outputs": [
    {
     "data": {
      "text/plain": [
       "====================================================================================================\n",
       "Layer (type:depth-idx)                             Output Shape              Param #\n",
       "====================================================================================================\n",
       "MobileNetV3                                        [1, 1000]                 --\n",
       "├─Sequential: 1-1                                  [1, 960, 7, 7]            --\n",
       "│    └─Conv2dNormActivation: 2-1                   [1, 16, 112, 112]         --\n",
       "│    │    └─Conv2d: 3-1                            [1, 16, 112, 112]         432\n",
       "│    │    └─BatchNorm2d: 3-2                       [1, 16, 112, 112]         32\n",
       "│    │    └─Hardswish: 3-3                         [1, 16, 112, 112]         --\n",
       "│    └─InvertedResidual: 2-2                       [1, 16, 112, 112]         --\n",
       "│    │    └─Sequential: 3-4                        [1, 16, 112, 112]         464\n",
       "│    └─InvertedResidual: 2-3                       [1, 24, 56, 56]           --\n",
       "│    │    └─Sequential: 3-5                        [1, 24, 56, 56]           3,440\n",
       "│    └─InvertedResidual: 2-4                       [1, 24, 56, 56]           --\n",
       "│    │    └─Sequential: 3-6                        [1, 24, 56, 56]           4,440\n",
       "│    └─InvertedResidual: 2-5                       [1, 40, 28, 28]           --\n",
       "│    │    └─Sequential: 3-7                        [1, 40, 28, 28]           10,328\n",
       "│    └─InvertedResidual: 2-6                       [1, 40, 28, 28]           --\n",
       "│    │    └─Sequential: 3-8                        [1, 40, 28, 28]           20,992\n",
       "│    └─InvertedResidual: 2-7                       [1, 40, 28, 28]           --\n",
       "│    │    └─Sequential: 3-9                        [1, 40, 28, 28]           20,992\n",
       "│    └─InvertedResidual: 2-8                       [1, 80, 14, 14]           --\n",
       "│    │    └─Sequential: 3-10                       [1, 80, 14, 14]           32,080\n",
       "│    └─InvertedResidual: 2-9                       [1, 80, 14, 14]           --\n",
       "│    │    └─Sequential: 3-11                       [1, 80, 14, 14]           34,760\n",
       "│    └─InvertedResidual: 2-10                      [1, 80, 14, 14]           --\n",
       "│    │    └─Sequential: 3-12                       [1, 80, 14, 14]           31,992\n",
       "│    └─InvertedResidual: 2-11                      [1, 80, 14, 14]           --\n",
       "│    │    └─Sequential: 3-13                       [1, 80, 14, 14]           31,992\n",
       "│    └─InvertedResidual: 2-12                      [1, 112, 14, 14]          --\n",
       "│    │    └─Sequential: 3-14                       [1, 112, 14, 14]          214,424\n",
       "│    └─InvertedResidual: 2-13                      [1, 112, 14, 14]          --\n",
       "│    │    └─Sequential: 3-15                       [1, 112, 14, 14]          386,120\n",
       "│    └─InvertedResidual: 2-14                      [1, 160, 7, 7]            --\n",
       "│    │    └─Sequential: 3-16                       [1, 160, 7, 7]            429,224\n",
       "│    └─InvertedResidual: 2-15                      [1, 160, 7, 7]            --\n",
       "│    │    └─Sequential: 3-17                       [1, 160, 7, 7]            797,360\n",
       "│    └─InvertedResidual: 2-16                      [1, 160, 7, 7]            --\n",
       "│    │    └─Sequential: 3-18                       [1, 160, 7, 7]            797,360\n",
       "│    └─Conv2dNormActivation: 2-17                  [1, 960, 7, 7]            --\n",
       "│    │    └─Conv2d: 3-19                           [1, 960, 7, 7]            153,600\n",
       "│    │    └─BatchNorm2d: 3-20                      [1, 960, 7, 7]            1,920\n",
       "│    │    └─Hardswish: 3-21                        [1, 960, 7, 7]            --\n",
       "├─AdaptiveAvgPool2d: 1-2                           [1, 960, 1, 1]            --\n",
       "├─Sequential: 1-3                                  [1, 1000]                 --\n",
       "│    └─Linear: 2-18                                [1, 1280]                 1,230,080\n",
       "│    └─Hardswish: 2-19                             [1, 1280]                 --\n",
       "│    └─Dropout: 2-20                               [1, 1280]                 --\n",
       "│    └─Linear: 2-21                                [1, 1000]                 1,281,000\n",
       "====================================================================================================\n",
       "Total params: 5,483,032\n",
       "Trainable params: 5,483,032\n",
       "Non-trainable params: 0\n",
       "Total mult-adds (M): 216.62\n",
       "====================================================================================================\n",
       "Input size (MB): 0.60\n",
       "Forward/backward pass size (MB): 70.46\n",
       "Params size (MB): 21.93\n",
       "Estimated Total Size (MB): 92.99\n",
       "===================================================================================================="
      ]
     },
     "execution_count": 73,
     "metadata": {},
     "output_type": "execute_result"
    }
   ],
   "source": [
    "from torchvision.models import mobilenet_v3_large\n",
    "summary(mobilenet_v3_large(), (1,3,224,224))"
   ]
  },
  {
   "cell_type": "code",
   "execution_count": 75,
   "id": "da452df2-2a8b-498c-8b3d-6e9cb4bd24e0",
   "metadata": {
    "scrolled": true
   },
   "outputs": [
    {
     "data": {
      "text/plain": [
       "====================================================================================================\n",
       "Layer (type:depth-idx)                             Output Shape              Param #\n",
       "====================================================================================================\n",
       "MobileNetV3                                        [1, 1000]                 --\n",
       "├─Sequential: 1-1                                  [1, 96, 7, 7]             --\n",
       "│    └─Sequential: 2-1                             [1, 16, 112, 112]         --\n",
       "│    │    └─Conv2d: 3-1                            [1, 16, 112, 112]         432\n",
       "│    │    └─BatchNorm2d: 3-2                       [1, 16, 112, 112]         32\n",
       "│    │    └─h_swish: 3-3                           [1, 16, 112, 112]         --\n",
       "│    └─InvertedResidual: 2-2                       [1, 16, 56, 56]           --\n",
       "│    │    └─Sequential: 3-4                        [1, 16, 56, 56]           744\n",
       "│    └─InvertedResidual: 2-3                       [1, 24, 28, 28]           --\n",
       "│    │    └─Sequential: 3-5                        [1, 24, 28, 28]           3,864\n",
       "│    └─InvertedResidual: 2-4                       [1, 24, 28, 28]           --\n",
       "│    │    └─Sequential: 3-6                        [1, 24, 28, 28]           5,416\n",
       "│    └─InvertedResidual: 2-5                       [1, 40, 14, 14]           --\n",
       "│    │    └─Sequential: 3-7                        [1, 40, 14, 14]           13,736\n",
       "│    └─InvertedResidual: 2-6                       [1, 40, 14, 14]           --\n",
       "│    │    └─Sequential: 3-8                        [1, 40, 14, 14]           57,264\n",
       "│    └─InvertedResidual: 2-7                       [1, 40, 14, 14]           --\n",
       "│    │    └─Sequential: 3-9                        [1, 40, 14, 14]           57,264\n",
       "│    └─InvertedResidual: 2-8                       [1, 48, 14, 14]           --\n",
       "│    │    └─Sequential: 3-10                       [1, 48, 14, 14]           21,968\n",
       "│    └─InvertedResidual: 2-9                       [1, 48, 14, 14]           --\n",
       "│    │    └─Sequential: 3-11                       [1, 48, 14, 14]           29,800\n",
       "│    └─InvertedResidual: 2-10                      [1, 96, 7, 7]             --\n",
       "│    │    └─Sequential: 3-12                       [1, 96, 7, 7]             91,848\n",
       "│    └─InvertedResidual: 2-11                      [1, 96, 7, 7]             --\n",
       "│    │    └─Sequential: 3-13                       [1, 96, 7, 7]             294,096\n",
       "│    └─InvertedResidual: 2-12                      [1, 96, 7, 7]             --\n",
       "│    │    └─Sequential: 3-14                       [1, 96, 7, 7]             294,096\n",
       "├─Sequential: 1-2                                  [1, 576, 9, 9]            --\n",
       "│    └─Conv2d: 2-13                                [1, 576, 9, 9]            55,296\n",
       "│    └─BatchNorm2d: 2-14                           [1, 576, 9, 9]            1,152\n",
       "│    └─h_swish: 2-15                               [1, 576, 9, 9]            --\n",
       "│    │    └─h_relu6: 3-15                          [1, 576, 9, 9]            --\n",
       "├─AdaptiveAvgPool2d: 1-3                           [1, 576, 1, 1]            --\n",
       "├─Sequential: 1-4                                  [1, 1000]                 --\n",
       "│    └─Linear: 2-16                                [1, 1024]                 590,848\n",
       "│    └─h_swish: 2-17                               [1, 1024]                 --\n",
       "│    │    └─h_relu6: 3-16                          [1, 1024]                 --\n",
       "│    └─Dropout: 2-18                               [1, 1024]                 --\n",
       "│    └─Linear: 2-19                                [1, 1000]                 1,025,000\n",
       "====================================================================================================\n",
       "Total params: 2,542,856\n",
       "Trainable params: 2,542,856\n",
       "Non-trainable params: 0\n",
       "Total mult-adds (M): 58.30\n",
       "====================================================================================================\n",
       "Input size (MB): 0.60\n",
       "Forward/backward pass size (MB): 22.94\n",
       "Params size (MB): 10.17\n",
       "Estimated Total Size (MB): 33.71\n",
       "===================================================================================================="
      ]
     },
     "execution_count": 75,
     "metadata": {},
     "output_type": "execute_result"
    }
   ],
   "source": [
    "summary(mobilenetv3_small(), (1,3,224,224))"
   ]
  },
  {
   "cell_type": "code",
   "execution_count": 74,
   "id": "c0239388-4511-429b-97c6-0b85e5d6ad8b",
   "metadata": {
    "scrolled": true
   },
   "outputs": [
    {
     "data": {
      "text/plain": [
       "====================================================================================================\n",
       "Layer (type:depth-idx)                             Output Shape              Param #\n",
       "====================================================================================================\n",
       "MobileNetV3                                        [1, 1000]                 --\n",
       "├─Sequential: 1-1                                  [1, 576, 7, 7]            --\n",
       "│    └─Conv2dNormActivation: 2-1                   [1, 16, 112, 112]         --\n",
       "│    │    └─Conv2d: 3-1                            [1, 16, 112, 112]         432\n",
       "│    │    └─BatchNorm2d: 3-2                       [1, 16, 112, 112]         32\n",
       "│    │    └─Hardswish: 3-3                         [1, 16, 112, 112]         --\n",
       "│    └─InvertedResidual: 2-2                       [1, 16, 56, 56]           --\n",
       "│    │    └─Sequential: 3-4                        [1, 16, 56, 56]           744\n",
       "│    └─InvertedResidual: 2-3                       [1, 24, 28, 28]           --\n",
       "│    │    └─Sequential: 3-5                        [1, 24, 28, 28]           3,864\n",
       "│    └─InvertedResidual: 2-4                       [1, 24, 28, 28]           --\n",
       "│    │    └─Sequential: 3-6                        [1, 24, 28, 28]           5,416\n",
       "│    └─InvertedResidual: 2-5                       [1, 40, 14, 14]           --\n",
       "│    │    └─Sequential: 3-7                        [1, 40, 14, 14]           13,736\n",
       "│    └─InvertedResidual: 2-6                       [1, 40, 14, 14]           --\n",
       "│    │    └─Sequential: 3-8                        [1, 40, 14, 14]           57,264\n",
       "│    └─InvertedResidual: 2-7                       [1, 40, 14, 14]           --\n",
       "│    │    └─Sequential: 3-9                        [1, 40, 14, 14]           57,264\n",
       "│    └─InvertedResidual: 2-8                       [1, 48, 14, 14]           --\n",
       "│    │    └─Sequential: 3-10                       [1, 48, 14, 14]           21,968\n",
       "│    └─InvertedResidual: 2-9                       [1, 48, 14, 14]           --\n",
       "│    │    └─Sequential: 3-11                       [1, 48, 14, 14]           29,800\n",
       "│    └─InvertedResidual: 2-10                      [1, 96, 7, 7]             --\n",
       "│    │    └─Sequential: 3-12                       [1, 96, 7, 7]             91,848\n",
       "│    └─InvertedResidual: 2-11                      [1, 96, 7, 7]             --\n",
       "│    │    └─Sequential: 3-13                       [1, 96, 7, 7]             294,096\n",
       "│    └─InvertedResidual: 2-12                      [1, 96, 7, 7]             --\n",
       "│    │    └─Sequential: 3-14                       [1, 96, 7, 7]             294,096\n",
       "│    └─Conv2dNormActivation: 2-13                  [1, 576, 7, 7]            --\n",
       "│    │    └─Conv2d: 3-15                           [1, 576, 7, 7]            55,296\n",
       "│    │    └─BatchNorm2d: 3-16                      [1, 576, 7, 7]            1,152\n",
       "│    │    └─Hardswish: 3-17                        [1, 576, 7, 7]            --\n",
       "├─AdaptiveAvgPool2d: 1-2                           [1, 576, 1, 1]            --\n",
       "├─Sequential: 1-3                                  [1, 1000]                 --\n",
       "│    └─Linear: 2-14                                [1, 1024]                 590,848\n",
       "│    └─Hardswish: 2-15                             [1, 1024]                 --\n",
       "│    └─Dropout: 2-16                               [1, 1024]                 --\n",
       "│    └─Linear: 2-17                                [1, 1000]                 1,025,000\n",
       "====================================================================================================\n",
       "Total params: 2,542,856\n",
       "Trainable params: 2,542,856\n",
       "Non-trainable params: 0\n",
       "Total mult-adds (M): 56.53\n",
       "====================================================================================================\n",
       "Input size (MB): 0.60\n",
       "Forward/backward pass size (MB): 22.64\n",
       "Params size (MB): 10.17\n",
       "Estimated Total Size (MB): 33.42\n",
       "===================================================================================================="
      ]
     },
     "execution_count": 74,
     "metadata": {},
     "output_type": "execute_result"
    }
   ],
   "source": [
    "from torchvision.models import mobilenet_v3_small\n",
    "summary(mobilenet_v3_small(), (1,3,224,224))"
   ]
  }
 ],
 "metadata": {
  "kernelspec": {
   "display_name": "DS_kernel",
   "language": "python",
   "name": "ds_env"
  },
  "language_info": {
   "codemirror_mode": {
    "name": "ipython",
    "version": 3
   },
   "file_extension": ".py",
   "mimetype": "text/x-python",
   "name": "python",
   "nbconvert_exporter": "python",
   "pygments_lexer": "ipython3",
   "version": "3.10.14"
  }
 },
 "nbformat": 4,
 "nbformat_minor": 5
}
