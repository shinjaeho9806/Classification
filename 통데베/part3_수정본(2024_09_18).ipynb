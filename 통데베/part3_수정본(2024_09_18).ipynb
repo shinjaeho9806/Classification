{
  "cells": [
    {
      "cell_type": "markdown",
      "id": "bac2bb82-6244-4d43-b82f-2579582e18ca",
      "metadata": {
        "id": "bac2bb82-6244-4d43-b82f-2579582e18ca"
      },
      "source": [
        "* 2023-09-18\n",
        "* 작성자 : 신재호\n",
        "* 파이토치와 트랜스포머를 활용한 자연어처리와 컴퓨터비전 심층학습->수정본"
      ]
    },
    {
      "cell_type": "markdown",
      "id": "1d402322-f0dd-42fc-bbb4-36cbc8d16ad6",
      "metadata": {
        "jp-MarkdownHeadingCollapsed": true,
        "id": "1d402322-f0dd-42fc-bbb4-36cbc8d16ad6"
      },
      "source": [
        "# 3장 파이토치 기초(p.45~)"
      ]
    },
    {
      "cell_type": "markdown",
      "id": "d4d50c12-9ac8-4a5b-a1ab-65602e8b093c",
      "metadata": {
        "id": "d4d50c12-9ac8-4a5b-a1ab-65602e8b093c"
      },
      "source": [
        "* torch.Tensor와 torch.tensor 둘 다 사용가능하지만, torch.Tensor를 사용하는 것이 권장됨\n",
        "* torch.tensor는 자료형을 자동으로 할당하기 때문에, 의도치 않은 자료형으로 변환될 위험이 있음"
      ]
    },
    {
      "cell_type": "code",
      "execution_count": null,
      "id": "57a5e246-03f6-4790-97d6-91d2e4766dae",
      "metadata": {
        "colab": {
          "base_uri": "https://localhost:8080/"
        },
        "id": "57a5e246-03f6-4790-97d6-91d2e4766dae",
        "outputId": "d55c22d0-4409-4839-d6ca-77c96a3ac49a"
      },
      "outputs": [
        {
          "output_type": "stream",
          "name": "stdout",
          "text": [
            "torch.tensor\n",
            "tensor([1, 2, 3]) torch.LongTensor\n",
            "tensor([1., 2., 3.]) torch.FloatTensor\n",
            "torch.Tensor\n",
            "tensor([1., 2., 3.]) torch.FloatTensor\n",
            "tensor([1., 2., 3.]) torch.FloatTensor\n"
          ]
        }
      ],
      "source": [
        "import torch\n",
        "\n",
        "print(\"torch.tensor\")\n",
        "print(torch.tensor([1,2,3]), torch.tensor([1,2,3]).type())\n",
        "print(torch.tensor([1.,2.,3.]), torch.tensor([1.,2.,3.]).type())\n",
        "print(\"torch.Tensor\")\n",
        "print(torch.Tensor([1,2,3]), torch.Tensor([1,2,3]).type())\n",
        "print(torch.Tensor([1., 2., 3.]), torch.Tensor([1,2,3]).type())"
      ]
    },
    {
      "cell_type": "markdown",
      "id": "52c30a83-bc76-469f-bf79-d0c53c8983e8",
      "metadata": {
        "id": "52c30a83-bc76-469f-bf79-d0c53c8983e8"
      },
      "source": [
        "* 텐서의 속성\n",
        "* shape, dtype, device"
      ]
    },
    {
      "cell_type": "code",
      "execution_count": null,
      "id": "22eb5855-1499-4c12-a5fd-3bfb2a9cb0cb",
      "metadata": {
        "id": "22eb5855-1499-4c12-a5fd-3bfb2a9cb0cb",
        "outputId": "f77d7d23-cb27-4efb-f732-66c52a5a98fe"
      },
      "outputs": [
        {
          "name": "stdout",
          "output_type": "stream",
          "text": [
            "tensor([[0.6853, 0.2734]])\n",
            "shape  : torch.Size([1, 2])\n",
            "dtype  : torch.float32\n",
            "cpu\n",
            "device : cpu\n",
            "gpu\n",
            "device : cuda:0\n"
          ]
        }
      ],
      "source": [
        "import torch\n",
        "\n",
        "tensor = torch.rand(1,2)\n",
        "gpu_tensor = torch.rand(1,2).cuda()\n",
        "\n",
        "print(tensor)\n",
        "print(f'shape  : {tensor.shape}')\n",
        "print(f'dtype  : {tensor.dtype}')\n",
        "print('cpu')\n",
        "print(f'device : {tensor.device}')\n",
        "print('gpu')\n",
        "print(f'device : {gpu_tensor.device}')"
      ]
    },
    {
      "cell_type": "markdown",
      "id": "0e4bceba-8b7f-4535-9bf7-8fbacb449663",
      "metadata": {
        "id": "0e4bceba-8b7f-4535-9bf7-8fbacb449663"
      },
      "source": [
        "* 차원변환"
      ]
    },
    {
      "cell_type": "code",
      "execution_count": null,
      "id": "f7436c10-1d88-4993-9644-37c80c28aae8",
      "metadata": {
        "id": "f7436c10-1d88-4993-9644-37c80c28aae8",
        "outputId": "d3ff2d95-764e-46df-8830-e29a348fe1d3"
      },
      "outputs": [
        {
          "name": "stdout",
          "output_type": "stream",
          "text": [
            "tensor([[0.1722, 0.6951]])\n",
            "torch.Size([1, 2])\n",
            "tensor([[0.1722],\n",
            "        [0.6951]])\n",
            "torch.Size([2, 1])\n"
          ]
        }
      ],
      "source": [
        "import torch\n",
        "\n",
        "tensor = torch.rand(1,2)\n",
        "print(tensor)\n",
        "print(tensor.shape)\n",
        "\n",
        "tensor = tensor.reshape(2,1)\n",
        "print(tensor)\n",
        "print(tensor.shape)"
      ]
    },
    {
      "cell_type": "markdown",
      "id": "fa7a6e69-d8c0-4dae-9020-8bcf9da56549",
      "metadata": {
        "id": "fa7a6e69-d8c0-4dae-9020-8bcf9da56549"
      },
      "source": [
        "* 자료형"
      ]
    },
    {
      "cell_type": "code",
      "execution_count": null,
      "id": "e89ae352-e742-4edb-8008-15f13f61be56",
      "metadata": {
        "id": "e89ae352-e742-4edb-8008-15f13f61be56",
        "outputId": "b69081f2-2471-419f-e5a6-ca3834cd8102"
      },
      "outputs": [
        {
          "name": "stdout",
          "output_type": "stream",
          "text": [
            "tensor([[0.8465, 0.5042, 0.7645],\n",
            "        [0.3719, 0.9645, 0.8838],\n",
            "        [0.0980, 0.3306, 0.1998]])\n",
            "torch.FloatTensor\n"
          ]
        }
      ],
      "source": [
        "import torch\n",
        "\n",
        "tensor = torch.rand((3,3), dtype = torch.float)\n",
        "print(tensor)\n",
        "print(tensor.type())"
      ]
    },
    {
      "cell_type": "markdown",
      "id": "58bf0436-d72c-4e02-9195-2a2122031031",
      "metadata": {
        "id": "58bf0436-d72c-4e02-9195-2a2122031031"
      },
      "source": [
        "* 장치설정"
      ]
    },
    {
      "cell_type": "code",
      "execution_count": null,
      "id": "5dee2603-cd8b-4940-ad00-3a478473ff50",
      "metadata": {
        "id": "5dee2603-cd8b-4940-ad00-3a478473ff50",
        "outputId": "2e702b11-75b8-4863-cd96-4d5a5b51bf0c"
      },
      "outputs": [
        {
          "name": "stdout",
          "output_type": "stream",
          "text": [
            "cuda\n",
            "tensor([1., 2., 3.])\n",
            "tensor([1., 2., 3.], device='cuda:0')\n",
            "tensor([[0.8230]], device='cuda:0')\n"
          ]
        }
      ],
      "source": [
        "import torch\n",
        "\n",
        "device = \"cuda\" if torch.cuda.is_available() else \"cpu\"\n",
        "cpu_tensor = torch.FloatTensor([1,2,3])\n",
        "gpu_tensor = torch.cuda.FloatTensor([1,2,3])\n",
        "tensor = torch.rand((1,1), device = device)\n",
        "print(device)\n",
        "print(cpu_tensor)\n",
        "print(gpu_tensor)\n",
        "print(tensor)"
      ]
    },
    {
      "cell_type": "markdown",
      "id": "05a14708-5237-49c2-b2fb-e5369e5b2add",
      "metadata": {
        "id": "05a14708-5237-49c2-b2fb-e5369e5b2add"
      },
      "source": [
        "* 장치변환\n",
        "*  GPU를 사용하는 텐서와 CPU를 사용하는 텐서 간의 연산은 불가능함"
      ]
    },
    {
      "cell_type": "code",
      "execution_count": null,
      "id": "2dc7031c-42d9-4267-877b-5b16253d280a",
      "metadata": {
        "id": "2dc7031c-42d9-4267-877b-5b16253d280a",
        "outputId": "4d917204-2a24-45bd-db56-57ee1eaba745"
      },
      "outputs": [
        {
          "name": "stdout",
          "output_type": "stream",
          "text": [
            "CPU : tensor([1., 2., 3.])\n",
            "GPU : tensor([1., 2., 3.], device='cuda:0')\n",
            "CPU : tensor([1., 2., 3.])\n",
            "GPU : tensor([1., 2., 3.], device='cuda:0')\n"
          ]
        }
      ],
      "source": [
        "import torch\n",
        "\n",
        "cpu_tensor = torch.FloatTensor([1,2,3])\n",
        "gpu_tensor = cpu_tensor.cuda()\n",
        "gpu2cpu = gpu_tensor.cpu()\n",
        "cpu2gpu = cpu_tensor.to(\"cuda\")\n",
        "print('CPU :', cpu_tensor)\n",
        "print('GPU :', gpu_tensor)\n",
        "print('CPU :', gpu2cpu)\n",
        "print('GPU :', cpu2gpu)"
      ]
    },
    {
      "cell_type": "markdown",
      "id": "005b53c8-4bdf-49b9-ba8a-f556ac4f70c9",
      "metadata": {
        "id": "005b53c8-4bdf-49b9-ba8a-f556ac4f70c9"
      },
      "source": [
        "* 넘파이 배열 -> 토치텐서"
      ]
    },
    {
      "cell_type": "code",
      "execution_count": null,
      "id": "f6f7d48f-8927-41aa-9f49-b2ff8b316a9a",
      "metadata": {
        "scrolled": true,
        "id": "f6f7d48f-8927-41aa-9f49-b2ff8b316a9a",
        "outputId": "2b5039b0-63f2-4989-e141-c56796065581"
      },
      "outputs": [
        {
          "name": "stdout",
          "output_type": "stream",
          "text": [
            "tensor([1, 2, 3], dtype=torch.uint8)\n",
            "tensor([1., 2., 3.])\n",
            "tensor([1, 2, 3], dtype=torch.uint8)\n"
          ]
        }
      ],
      "source": [
        "import numpy as np\n",
        "import torch\n",
        "\n",
        "np_array = np.array([1,2,3], dtype = np.uint8)\n",
        "print(torch.tensor(np_array))\n",
        "print(torch.Tensor(np_array))\n",
        "print(torch.from_numpy(np_array))"
      ]
    },
    {
      "cell_type": "markdown",
      "id": "933f2616-1884-44b9-8cb8-19ca0bead873",
      "metadata": {
        "id": "933f2616-1884-44b9-8cb8-19ca0bead873"
      },
      "source": [
        "* 토치텐서 -> 넘파이 배열"
      ]
    },
    {
      "cell_type": "code",
      "execution_count": null,
      "id": "bf3fea39-3709-43b8-bef5-42da066e3870",
      "metadata": {
        "id": "bf3fea39-3709-43b8-bef5-42da066e3870",
        "outputId": "f58227d9-5d69-437f-fa92-cc2c56bdbf9e"
      },
      "outputs": [
        {
          "name": "stdout",
          "output_type": "stream",
          "text": [
            "[1. 2. 3.]\n",
            "<class 'numpy.ndarray'>\n"
          ]
        }
      ],
      "source": [
        "import torch\n",
        "# GPU에 tensor를 load\n",
        "tensor = torch.cuda.FloatTensor([1,2,3])\n",
        "# CPU에 ndarray를 load\n",
        "# detach를 통해서 gpu와 연결해제\n",
        "np_array = tensor.detach().cpu().numpy()\n",
        "print(np_array)\n",
        "print(type(np_array))"
      ]
    },
    {
      "cell_type": "markdown",
      "source": [
        "* pytorch image 배열 처리"
      ],
      "metadata": {
        "id": "5nU4bo3nzZP1"
      },
      "id": "5nU4bo3nzZP1"
    },
    {
      "cell_type": "code",
      "source": [],
      "metadata": {
        "id": "4cqO_HxrzZNS"
      },
      "id": "4cqO_HxrzZNS",
      "execution_count": null,
      "outputs": []
    },
    {
      "cell_type": "code",
      "source": [],
      "metadata": {
        "id": "sfohVbDtzZKs"
      },
      "id": "sfohVbDtzZKs",
      "execution_count": null,
      "outputs": []
    },
    {
      "cell_type": "markdown",
      "id": "7df2d39b-35a2-40f7-945c-c76b9df38e03",
      "metadata": {
        "jp-MarkdownHeadingCollapsed": true,
        "id": "7df2d39b-35a2-40f7-945c-c76b9df38e03"
      },
      "source": [
        "# 단순 선형회귀\n",
        "* 손실함수 < 비용함수 < 목적함수\n",
        "* 손실함수 : 단일 샘플의 실젯값과 예측값의 차이가 발생했을 떄 오차가 얼마인지 계산하는 함수\n",
        "* 비용함수 : 전체 데이터에 대한 오차를 계산하는 함수\n",
        "* 목적함수 : 함수값의 결과를 최댓값 또는 최솟값으로 최적화하는 함수"
      ]
    },
    {
      "cell_type": "code",
      "execution_count": null,
      "id": "beb16e32-1914-4c28-836b-cfd5a0b3b973",
      "metadata": {
        "id": "beb16e32-1914-4c28-836b-cfd5a0b3b973"
      },
      "outputs": [],
      "source": [
        "import numpy as np\n",
        "\n",
        "x = np.array(\n",
        "    [[1], [2], [3], [4], [5], [6], [7], [8], [9], [10],\n",
        "    [11], [12], [13], [14], [15], [16], [17], [18], [19], [20],\n",
        "    [21], [22], [23], [24], [25], [26], [27], [28], [29], [30]]\n",
        ")\n",
        "y = np.array(\n",
        "    [[0.94], [1.98], [2.88], [3.92], [3.96], [4.55], [5.64], [6.3], [7.44], [9.1],\n",
        "    [8.46], [9.5], [10.67], [11.16], [14], [11.83], [14.4], [14.25], [16.2], [16.32],\n",
        "    [17.46], [19.8], [18], [21.34], [22], [22.5], [24.57], [26.04], [21.6], [28.8]]\n",
        ")"
      ]
    },
    {
      "cell_type": "code",
      "execution_count": null,
      "id": "8681c87e-0e2d-4952-ab90-c8f9f1361f17",
      "metadata": {
        "id": "8681c87e-0e2d-4952-ab90-c8f9f1361f17"
      },
      "outputs": [],
      "source": [
        "def  simpleregression(x, y, weight, bias, epoch, learning_rate):\n",
        "    '''\n",
        "    batch를 적용한 방식임.\n",
        "    '''\n",
        "    print('learning_rate = {}'.format(learning_rate))\n",
        "    for epoch  in range(epoch):\n",
        "        y_hat = weight * x + bias\n",
        "        # 비용함수\n",
        "        cost = ((y - y_hat)**2).mean()\n",
        "\n",
        "        # 가중치\n",
        "        # weight를 편미분하므로 x를 곱함\n",
        "        weight = weight - learning_rate * ((y_hat - y)*x).mean()\n",
        "\n",
        "        # 편향\n",
        "        bias = bias - learning_rate * (y_hat - y).mean()\n",
        "        '''\n",
        "        print(\"epoch : {}, cost : {}, weight : {}, bias : {}\".format(epoch,\n",
        "                                                                     cost,\n",
        "                                                                     weight,\n",
        "                                                                     bias))\n",
        "        '''\n",
        "        if (epoch + 1) % 1000 == 0:\n",
        "            print(f\"Epoch : {epoch+1:4d}, Weight : {weight:.3f}, Bias : {bias:.3f}, Cost : {cost:.3f}\")\n",
        "\n",
        "import matplotlib.pyplot as plt\n",
        "\n",
        "def plot_maker(x,y,weight,bias,lr):\n",
        "    plt.scatter(x,y)\n",
        "    y_hat = weight * x - bias\n",
        "    plt.plot(x, y_hat, color = 'red')\n",
        "    plt.title(f'lr = {lr}')\n",
        "    plt.show()"
      ]
    },
    {
      "cell_type": "code",
      "execution_count": null,
      "id": "4d2c3c76-3917-48c9-b903-f87d92d003d8",
      "metadata": {
        "colab": {
          "base_uri": "https://localhost:8080/",
          "height": 655
        },
        "id": "4d2c3c76-3917-48c9-b903-f87d92d003d8",
        "outputId": "a65989e6-4ce1-4713-de3d-f638d8fc6d4d"
      },
      "outputs": [
        {
          "output_type": "stream",
          "name": "stdout",
          "text": [
            "learning_rate = 0.001\n",
            "Epoch : 1000, Weight : 0.860, Bias : -0.059, Cost : 1.406\n",
            "Epoch : 2000, Weight : 0.864, Bias : -0.138, Cost : 1.393\n",
            "Epoch : 3000, Weight : 0.867, Bias : -0.201, Cost : 1.385\n",
            "Epoch : 4000, Weight : 0.870, Bias : -0.251, Cost : 1.380\n",
            "Epoch : 5000, Weight : 0.872, Bias : -0.290, Cost : 1.377\n",
            "Epoch : 6000, Weight : 0.873, Bias : -0.321, Cost : 1.375\n",
            "Epoch : 7000, Weight : 0.874, Bias : -0.345, Cost : 1.374\n",
            "Epoch : 8000, Weight : 0.875, Bias : -0.364, Cost : 1.373\n",
            "Epoch : 9000, Weight : 0.876, Bias : -0.379, Cost : 1.373\n",
            "Epoch : 10000, Weight : 0.877, Bias : -0.391, Cost : 1.373\n"
          ]
        },
        {
          "output_type": "display_data",
          "data": {
            "text/plain": [
              "<Figure size 640x480 with 1 Axes>"
            ],
            "image/png": "[encoded data removed]"
          },
          "metadata": {}
        }
      ],
      "source": [
        "# 1 p.77(1)\n",
        "weight = 0.0\n",
        "bias = 0.0\n",
        "epoch = 10000\n",
        "learning_rate = 0.001\n",
        "\n",
        "simpleregression(x = x, y = y, weight = weight, bias = bias, epoch = epoch, learning_rate = learning_rate)\n",
        "\n",
        "plot_maker(x = x, y = y, weight = 0.877, bias = -0.391, lr = 0.001)"
      ]
    },
    {
      "cell_type": "code",
      "execution_count": null,
      "id": "b8ad97b1-e616-4bba-9fa6-cc86bf166672",
      "metadata": {
        "colab": {
          "base_uri": "https://localhost:8080/",
          "height": 655
        },
        "id": "b8ad97b1-e616-4bba-9fa6-cc86bf166672",
        "outputId": "29b1fe3d-441f-4444-e0d4-102d71b0e82a"
      },
      "outputs": [
        {
          "output_type": "stream",
          "name": "stdout",
          "text": [
            "learning_rate = 0.006\n",
            "Epoch : 1000, Weight : 0.873, Bias : -0.321, Cost : 1.375\n",
            "Epoch : 2000, Weight : 0.878, Bias : -0.408, Cost : 1.372\n",
            "Epoch : 3000, Weight : 0.879, Bias : -0.429, Cost : 1.372\n",
            "Epoch : 4000, Weight : 0.879, Bias : -0.434, Cost : 1.372\n",
            "Epoch : 5000, Weight : 0.879, Bias : -0.436, Cost : 1.372\n",
            "Epoch : 6000, Weight : 0.879, Bias : -0.436, Cost : 1.372\n",
            "Epoch : 7000, Weight : 0.879, Bias : -0.436, Cost : 1.372\n",
            "Epoch : 8000, Weight : 0.879, Bias : -0.436, Cost : 1.372\n",
            "Epoch : 9000, Weight : 0.879, Bias : -0.436, Cost : 1.372\n",
            "Epoch : 10000, Weight : 0.879, Bias : -0.436, Cost : 1.372\n"
          ]
        },
        {
          "output_type": "display_data",
          "data": {
            "text/plain": [
              "<Figure size 640x480 with 1 Axes>"
            ],
            "image/png": "[encoded data removed]"
          },
          "metadata": {}
        }
      ],
      "source": [
        "# 2 p.77(2)\n",
        "weight = 0.0\n",
        "bias = 0.0\n",
        "epoch = 10000\n",
        "learning_rate = 0.006\n",
        "\n",
        "simpleregression(x = x, y = y, weight = weight, bias = bias, epoch = epoch, learning_rate = learning_rate)\n",
        "\n",
        "plot_maker(x = x, y = y, weight = 0.879, bias = -0.436, lr = 0.006)"
      ]
    },
    {
      "cell_type": "markdown",
      "id": "a4a93ac4-d25e-4573-bfe8-60af80ee6b75",
      "metadata": {
        "id": "a4a93ac4-d25e-4573-bfe8-60af80ee6b75"
      },
      "source": [
        "* 단순선형회귀 파이토치"
      ]
    },
    {
      "cell_type": "code",
      "execution_count": null,
      "id": "9a2b4e06-2834-4e87-be5a-20ff248c0891",
      "metadata": {
        "id": "9a2b4e06-2834-4e87-be5a-20ff248c0891"
      },
      "outputs": [],
      "source": [
        "import torch\n",
        "from torch import optim"
      ]
    },
    {
      "cell_type": "code",
      "execution_count": null,
      "id": "55eacf45-a0eb-4442-8618-3f4ed074a38a",
      "metadata": {
        "id": "55eacf45-a0eb-4442-8618-3f4ed074a38a"
      },
      "outputs": [],
      "source": [
        "x = torch.FloatTensor(x)\n",
        "y = torch.FloatTensor(y)"
      ]
    },
    {
      "cell_type": "code",
      "execution_count": null,
      "id": "4433d627-04db-42b9-af40-e13d1d285ebc",
      "metadata": {
        "id": "4433d627-04db-42b9-af40-e13d1d285ebc",
        "outputId": "3246a1eb-a621-4afb-8f08-606a3b9f673e"
      },
      "outputs": [
        {
          "name": "stdout",
          "output_type": "stream",
          "text": [
            "weight : tensor([0.], requires_grad=True)\n",
            "bias : tensor([0.], requires_grad=True)\n"
          ]
        }
      ],
      "source": [
        "# autograd 자동미분기능(역전파)\n",
        "\n",
        "weight = torch.zeros(1, requires_grad = True)\n",
        "bias = torch.zeros(1, requires_grad = True)\n",
        "learning_rate = 0.001\n",
        "\n",
        "print('weight : {}\\nbias : {}'.format(weight, bias))"
      ]
    },
    {
      "cell_type": "markdown",
      "source": [
        "# 옵티마이저 (torch.optim)\n",
        "* https://pytorch.org/docs/stable/optim.html"
      ],
      "metadata": {
        "id": "DP1RklXI2-my"
      },
      "id": "DP1RklXI2-my"
    },
    {
      "cell_type": "code",
      "execution_count": null,
      "id": "fb2096ad-7705-4064-bbe6-abb1ca773aa0",
      "metadata": {
        "scrolled": true,
        "id": "fb2096ad-7705-4064-bbe6-abb1ca773aa0",
        "outputId": "64035ec0-495d-43c4-fbb4-98e4089aa3da"
      },
      "outputs": [
        {
          "data": {
            "text/plain": [
              "SGD (\n",
              "Parameter Group 0\n",
              "    dampening: 0\n",
              "    differentiable: False\n",
              "    foreach: None\n",
              "    lr: 0.001\n",
              "    maximize: False\n",
              "    momentum: 0\n",
              "    nesterov: False\n",
              "    weight_decay: 0\n",
              ")"
            ]
          },
          "execution_count": 24,
          "metadata": {},
          "output_type": "execute_result"
        }
      ],
      "source": [
        "# 옵티마이저 설정\n",
        "# torch.optim\n",
        "optimizer = optim.SGD([weight, bias], lr = learning_rate)\n",
        "optimizer"
      ]
    },
    {
      "cell_type": "markdown",
      "source": [
        "* 파이토치 가중치 갱신\n",
        "* zero_grad : 옵티마이저 기울기 초기화\n",
        "* cost.backward :  역전파\n",
        "* optimizer : 기울기 갱신"
      ],
      "metadata": {
        "id": "fMMDKTof3vk0"
      },
      "id": "fMMDKTof3vk0"
    },
    {
      "cell_type": "code",
      "execution_count": null,
      "id": "e4dbd805-4aea-43fa-b821-f7fbb5ea5898",
      "metadata": {
        "scrolled": true,
        "id": "e4dbd805-4aea-43fa-b821-f7fbb5ea5898",
        "outputId": "23e6a027-fa73-4499-f9d4-20f48bedef9f"
      },
      "outputs": [
        {
          "name": "stdout",
          "output_type": "stream",
          "text": [
            "Epoch: 1000, Weight : 0.864, Bias : -0.138, Cost:1.393\n",
            "Epoch: 2000, Weight : 0.870, Bias : -0.251, Cost:1.380\n",
            "Epoch: 3000, Weight : 0.873, Bias : -0.321, Cost:1.375\n",
            "Epoch: 4000, Weight : 0.875, Bias : -0.364, Cost:1.373\n",
            "Epoch: 5000, Weight : 0.877, Bias : -0.391, Cost:1.373\n",
            "Epoch: 6000, Weight : 0.878, Bias : -0.408, Cost:1.372\n",
            "Epoch: 7000, Weight : 0.878, Bias : -0.419, Cost:1.372\n",
            "Epoch: 8000, Weight : 0.878, Bias : -0.425, Cost:1.372\n",
            "Epoch: 9000, Weight : 0.879, Bias : -0.429, Cost:1.372\n",
            "Epoch: 10000, Weight : 0.879, Bias : -0.432, Cost:1.372\n"
          ]
        }
      ],
      "source": [
        "for epoch in range(10000):\n",
        "    hypothesis = weight * x + bias\n",
        "    cost = torch.mean((hypothesis - y)**2)\n",
        "\n",
        "    optimizer.zero_grad()\n",
        "    cost.backward()\n",
        "    optimizer.step()\n",
        "\n",
        "    if (epoch + 1) % 1000 == 0:\n",
        "        print(f\"Epoch: {epoch+1:4d}, Weight : {weight.item():.3f}, Bias : {bias.item():.3f}, Cost:{cost:.3f}\")"
      ]
    },
    {
      "cell_type": "markdown",
      "id": "2169f009-d2a1-431b-95bd-00f5c3b4d77f",
      "metadata": {
        "id": "2169f009-d2a1-431b-95bd-00f5c3b4d77f"
      },
      "source": [
        "* zero_grad 사용하는 이유"
      ]
    },
    {
      "cell_type": "code",
      "execution_count": null,
      "id": "a6b0e1f4-24c5-4040-89ae-0314d715d064",
      "metadata": {
        "colab": {
          "base_uri": "https://localhost:8080/"
        },
        "id": "a6b0e1f4-24c5-4040-89ae-0314d715d064",
        "outputId": "f6d39f08-f73d-4c37-d516-a22d1c62f213"
      },
      "outputs": [
        {
          "output_type": "stream",
          "name": "stdout",
          "text": [
            "역전파 1번 grad: tensor(2.)\n",
            "역전파 2번 grad: tensor(4.)\n",
            "역전파 3번 grad: tensor(6.)\n",
            "역전파 4번 grad: tensor(8.)\n",
            "역전파 5번 grad: tensor(10.)\n"
          ]
        }
      ],
      "source": [
        "temp = torch.tensor(2.0, requires_grad = True)\n",
        "\n",
        "for i in range(5):\n",
        "    z = 2*temp\n",
        "    z.backward()\n",
        "    print(f'역전파 {i+1}번 grad:',temp.grad)"
      ]
    },
    {
      "cell_type": "code",
      "source": [
        "temp = torch.tensor(2.0, requires_grad = True)\n",
        "\n",
        "for i in range(5):\n",
        "    temp.grad = torch.tensor(0.)\n",
        "    z = 2*temp\n",
        "\n",
        "    z.backward()\n",
        "    print(f'역전파 {i+1}번 grad:',temp.grad)"
      ],
      "metadata": {
        "colab": {
          "base_uri": "https://localhost:8080/"
        },
        "id": "_ACbFgfe3iXF",
        "outputId": "00ffdb29-5979-4df9-defb-993d4a112a1c"
      },
      "id": "_ACbFgfe3iXF",
      "execution_count": null,
      "outputs": [
        {
          "output_type": "stream",
          "name": "stdout",
          "text": [
            "역전파 1번 grad: tensor(2.)\n",
            "역전파 2번 grad: tensor(2.)\n",
            "역전파 3번 grad: tensor(2.)\n",
            "역전파 4번 grad: tensor(2.)\n",
            "역전파 5번 grad: tensor(2.)\n"
          ]
        }
      ]
    },
    {
      "cell_type": "markdown",
      "id": "0b5e5d62-ad9b-4555-ae4a-fe7df1f9a92d",
      "metadata": {
        "id": "0b5e5d62-ad9b-4555-ae4a-fe7df1f9a92d"
      },
      "source": [
        "* gradient들은 1에포크에서 역할을 다한 것이므로 초기화 해주어야함"
      ]
    },
    {
      "cell_type": "markdown",
      "id": "83afb9b2-860c-4fd5-bae4-d3d4ee5b10ab",
      "metadata": {
        "jp-MarkdownHeadingCollapsed": true,
        "id": "83afb9b2-860c-4fd5-bae4-d3d4ee5b10ab"
      },
      "source": [
        "# 신경망 (torch.nn)\n",
        "* https://pytorch.org/docs/stable/nn.html"
      ]
    },
    {
      "cell_type": "code",
      "execution_count": null,
      "id": "a3bad935-1ec4-403d-bf0b-be7d5a136519",
      "metadata": {
        "id": "a3bad935-1ec4-403d-bf0b-be7d5a136519"
      },
      "outputs": [],
      "source": [
        "from torch import nn\n",
        "\n",
        "x = torch.FloatTensor(x)\n",
        "y = torch.FloatTensor(y)"
      ]
    },
    {
      "cell_type": "code",
      "execution_count": null,
      "id": "d8408be9-da95-4b34-94f3-384146945d0b",
      "metadata": {
        "id": "d8408be9-da95-4b34-94f3-384146945d0b"
      },
      "outputs": [],
      "source": [
        "# 모델\n",
        "model = nn.Linear(1,1, bias = True)\n",
        "# 손실함수\n",
        "criterion = nn.MSELoss()\n",
        "# 옵티마이저\n",
        "# optim.SGD([weight, bias], learning_rate = 0.001)\n",
        "optimizer = optim.SGD(model.parameters(), lr = 0.001)"
      ]
    },
    {
      "cell_type": "code",
      "execution_count": null,
      "id": "59802f3a-ff9e-4744-8a9b-542d8b095d15",
      "metadata": {
        "scrolled": true,
        "colab": {
          "base_uri": "https://localhost:8080/"
        },
        "id": "59802f3a-ff9e-4744-8a9b-542d8b095d15",
        "outputId": "d81a02d3-06c6-4e45-be99-31f3cd1f0b86"
      },
      "outputs": [
        {
          "output_type": "stream",
          "name": "stdout",
          "text": [
            "Epoch : 1000, Model : [Parameter containing:\n",
            "tensor([[0.8706]], requires_grad=True), Parameter containing:\n",
            "tensor([-0.2664], requires_grad=True)], Cost : 1.379\n",
            "Epoch : 2000, Model : [Parameter containing:\n",
            "tensor([[0.8737]], requires_grad=True), Parameter containing:\n",
            "tensor([-0.3304], requires_grad=True)], Cost : 1.375\n",
            "Epoch : 3000, Model : [Parameter containing:\n",
            "tensor([[0.8757]], requires_grad=True), Parameter containing:\n",
            "tensor([-0.3703], requires_grad=True)], Cost : 1.373\n"
          ]
        }
      ],
      "source": [
        "for epoch in range(3000):\n",
        "    output = model(x)\n",
        "    cost = criterion(output, y)\n",
        "\n",
        "    # [1] 옵티마이저값 초기화\n",
        "    optimizer.zero_grad()\n",
        "    # [2] 손실함수 역전파 수행\n",
        "    cost.backward()\n",
        "    # [3] 가중치 갱신\n",
        "    optimizer.step()\n",
        "\n",
        "    if (epoch + 1) % 1000 == 0:\n",
        "        print(f\"Epoch : {epoch+1:4d}, Model : {list(model.parameters())}, Cost : {cost:.3f}\")"
      ]
    },
    {
      "cell_type": "markdown",
      "id": "849515f2-bf78-4bc8-a11e-c7b13a943bb5",
      "metadata": {
        "jp-MarkdownHeadingCollapsed": true,
        "id": "849515f2-bf78-4bc8-a11e-c7b13a943bb5"
      },
      "source": [
        "# 비선형회귀"
      ]
    },
    {
      "cell_type": "code",
      "execution_count": null,
      "id": "6ef8c9ee-2852-4d6c-af09-bdd64d590152",
      "metadata": {
        "id": "6ef8c9ee-2852-4d6c-af09-bdd64d590152"
      },
      "outputs": [],
      "source": [
        "import torch\n",
        "import pandas as pd\n",
        "from torch import nn\n",
        "from torch import optim\n",
        "from torch.utils.data import Dataset, DataLoader"
      ]
    },
    {
      "cell_type": "code",
      "execution_count": null,
      "id": "f5fbd2ce-eae0-4ea9-989d-9c6968212892",
      "metadata": {
        "id": "f5fbd2ce-eae0-4ea9-989d-9c6968212892"
      },
      "outputs": [],
      "source": [
        "# 사용자 정의 데이터세트\n",
        "class CustomDataset(Dataset):\n",
        "    '''\n",
        "    데이터세트를 상속받아 커스텀 데이터세트를 생성\n",
        "    '''\n",
        "    def __init__(self, file_path):\n",
        "        df = pd.read_csv(file_path)\n",
        "        self.x = df.iloc[:, 0].values\n",
        "        self.y = df.iloc[:, 1].values\n",
        "        self.length = len(df)\n",
        "\n",
        "    def __getitem__(self, index):\n",
        "        '''\n",
        "        y = w1 * (x**2) + w2 * x + bias\n",
        "        x = [x**2, x]형태\n",
        "        '''\n",
        "        x = torch.FloatTensor([self.x[index] ** 2, self.x[index]])\n",
        "        y = torch.FloatTensor([self.y[index]])\n",
        "        return x, y\n",
        "\n",
        "    def __len__(self):\n",
        "        return self.length\n",
        "\n",
        "# 사용자 정의 모델\n",
        "class CustomModel(nn.Module):\n",
        "    '''\n",
        "    선형변환함수를 이용한 모델\n",
        "    '''\n",
        "    def __init__(self):\n",
        "        super().__init__()\n",
        "        self.layer = nn.Linear(2,1)\n",
        "\n",
        "    def forward(self, x):\n",
        "        x = self.layer(x)\n",
        "        return x"
      ]
    },
    {
      "cell_type": "markdown",
      "source": [
        "<img src = 'data:image/png;base64,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'>"
      ],
      "metadata": {
        "id": "3AvK--Qe8-qG"
      },
      "id": "3AvK--Qe8-qG"
    },
    {
      "cell_type": "code",
      "execution_count": null,
      "id": "f1c139ae-526f-4361-8c31-a40dc71ab8e4",
      "metadata": {
        "scrolled": true,
        "colab": {
          "base_uri": "https://localhost:8080/"
        },
        "id": "f1c139ae-526f-4361-8c31-a40dc71ab8e4",
        "outputId": "f659f782-3109-4f3c-bdc1-3b9b8a156a5b"
      },
      "outputs": [
        {
          "output_type": "stream",
          "name": "stdout",
          "text": [
            "----- batch : 1 ------\n",
            "x : torch.Size([32, 2])\n",
            "y : torch.Size([32, 1])\n"
          ]
        }
      ],
      "source": [
        "train_dataset = CustomDataset('./non_linear.csv')\n",
        "train_loader = DataLoader(train_dataset, batch_size = 32, shuffle = True, drop_last = True)\n",
        "\n",
        "'''\n",
        "32 batch\n",
        "'''\n",
        "for batch, i in zip(train_loader, range(6)):\n",
        "    x, y = batch\n",
        "    print(f'----- batch : {i+1} ------')\n",
        "    print(f'x : {x.shape}')\n",
        "    print(f'y : {y.shape}')\n",
        "    break"
      ]
    },
    {
      "cell_type": "code",
      "execution_count": null,
      "id": "4f7bc890-d5b6-468b-8b36-a837a5720c1b",
      "metadata": {
        "scrolled": true,
        "colab": {
          "base_uri": "https://localhost:8080/"
        },
        "id": "4f7bc890-d5b6-468b-8b36-a837a5720c1b",
        "outputId": "75209bde-9e27-4c5e-d101-edf061bf9a65"
      },
      "outputs": [
        {
          "output_type": "stream",
          "name": "stdout",
          "text": [
            "Epoch : 5000, Model : [Parameter containing:\n",
            "tensor([[ 3.1046, -1.6956]], requires_grad=True), Parameter containing:\n",
            "tensor([0.1846], requires_grad=True)], Cost : 0.081\n",
            "Epoch : 10000, Model : [Parameter containing:\n",
            "tensor([[ 3.1034, -1.6961]], requires_grad=True), Parameter containing:\n",
            "tensor([0.2561], requires_grad=True)], Cost : 0.071\n"
          ]
        }
      ],
      "source": [
        "train_loader = DataLoader(train_dataset, batch_size = 128, shuffle = True, drop_last = True)\n",
        "\n",
        "device = \"cuda\" if torch.cuda.is_available() else \"cpu\"\n",
        "model = CustomModel().to(device)\n",
        "criterion = nn.MSELoss().to(device)\n",
        "optimizer = optim.SGD(model.parameters(),lr = 0.0001)\n",
        "\n",
        "for epoch in range(10000):\n",
        "    cost = 0.0\n",
        "\n",
        "    for batch in train_loader:\n",
        "        x = x.to(device)\n",
        "        y = y.to(device)\n",
        "\n",
        "        output = model(x)\n",
        "        loss = criterion(output,y)\n",
        "\n",
        "        optimizer.zero_grad()\n",
        "        loss.backward()\n",
        "        optimizer.step()\n",
        "\n",
        "        cost += loss\n",
        "    cost = cost/len(train_loader)\n",
        "\n",
        "    if (epoch + 1) % 5000 == 0:\n",
        "        print(f'Epoch : {epoch+1:4d}, Model : {list(model.parameters())}, Cost : {cost:.3f}')"
      ]
    },
    {
      "cell_type": "markdown",
      "id": "44c7f3f4-b09c-4f1f-89f8-ffd8534b0b8e",
      "metadata": {
        "id": "44c7f3f4-b09c-4f1f-89f8-ffd8534b0b8e"
      },
      "source": [
        "<y_hat = 3.0982*(x**2) - 1.6937*x + 0.5967>"
      ]
    },
    {
      "cell_type": "markdown",
      "id": "0a2cab9d-039d-4c27-8390-dcdc0c6ee70d",
      "metadata": {
        "id": "0a2cab9d-039d-4c27-8390-dcdc0c6ee70d"
      },
      "source": [
        "* 모델 평가"
      ]
    },
    {
      "cell_type": "code",
      "execution_count": null,
      "id": "253f12e4-3b02-44c7-af2d-5e064dafec6f",
      "metadata": {
        "colab": {
          "base_uri": "https://localhost:8080/"
        },
        "id": "253f12e4-3b02-44c7-af2d-5e064dafec6f",
        "outputId": "87260bd0-4e3b-4163-d523-8292368ee3c2"
      },
      "outputs": [
        {
          "output_type": "stream",
          "name": "stdout",
          "text": [
            "tensor([[  1.6633],\n",
            "        [ 69.3602],\n",
            "        [357.1089]])\n"
          ]
        }
      ],
      "source": [
        "# no_grad로 기울기계산을 비활성화해야 메모리 사용량을 줄임\n",
        "model.eval()\n",
        "with torch.no_grad():\n",
        "    inputs = torch.FloatTensor(\n",
        "        [\n",
        "            [1**2, 1],\n",
        "            [5**2, 5],\n",
        "            [11**2, 11]\n",
        "        ]\n",
        "    ).to(device)\n",
        "    outputs = model(inputs)\n",
        "    print(outputs)"
      ]
    },
    {
      "cell_type": "markdown",
      "id": "57e0c23e-035f-41e7-820a-158ad0d0c70d",
      "metadata": {
        "id": "57e0c23e-035f-41e7-820a-158ad0d0c70d"
      },
      "source": [
        "# 모델 저장하기"
      ]
    },
    {
      "cell_type": "code",
      "execution_count": null,
      "id": "b28b5994-520d-4ef2-8ee5-1e8c4f9ab44d",
      "metadata": {
        "id": "b28b5994-520d-4ef2-8ee5-1e8c4f9ab44d"
      },
      "outputs": [],
      "source": [
        "torch.save(\n",
        "    {\n",
        "        \"Description\" : \"CustomModel : y = w_1 * x**2 + w_2 * x + bias\",\n",
        "        \"epoch\" : epoch + 1,\n",
        "        \"model_state_dict\" : model.state_dict(),\n",
        "        \"optimizer_state_dict\" : optimizer.state_dict(),\n",
        "        \"cost\" : cost,\n",
        "        },\n",
        "    './first_model_state_dict.pt'\n",
        ")"
      ]
    },
    {
      "cell_type": "markdown",
      "id": "8f9df3d2-66cb-4a6d-b8f9-c35eca5ab2f8",
      "metadata": {
        "jp-MarkdownHeadingCollapsed": true,
        "id": "8f9df3d2-66cb-4a6d-b8f9-c35eca5ab2f8"
      },
      "source": [
        "# 모델 호출하기"
      ]
    },
    {
      "cell_type": "markdown",
      "id": "54ad53b6-fbaf-472c-84d0-10f8973560b8",
      "metadata": {
        "id": "54ad53b6-fbaf-472c-84d0-10f8973560b8"
      },
      "source": [
        "* torch.save()\n",
        "* torch.load(path = '__경로__', map_location = '__장치__')\n",
        "* weights_only = True 추가!!"
      ]
    },
    {
      "cell_type": "code",
      "execution_count": null,
      "id": "8983648d-c3d9-4bfb-9122-c6b4ee8d6d59",
      "metadata": {
        "colab": {
          "base_uri": "https://localhost:8080/"
        },
        "id": "8983648d-c3d9-4bfb-9122-c6b4ee8d6d59",
        "outputId": "f8a0e706-cbbf-4a83-ce2c-75edba4a1ff9"
      },
      "outputs": [
        {
          "output_type": "stream",
          "name": "stdout",
          "text": [
            "Description : CustomModel : y = w_1 * x**2 + w_2 * x + bias\n",
            "epoch : 10000\n",
            "model_state_dict : OrderedDict([('layer.weight', tensor([[ 3.1034, -1.6961]])), ('layer.bias', tensor([0.2561]))])\n",
            "optimizer_state_dict : {'state': {}, 'param_groups': [{'lr': 0.0001, 'momentum': 0, 'dampening': 0, 'weight_decay': 0, 'nesterov': False, 'maximize': False, 'foreach': None, 'differentiable': False, 'fused': None, 'params': [0, 1]}]}\n",
            "cost : 0.07101650536060333\n"
          ]
        }
      ],
      "source": [
        "device = \"cuda\" if torch.cuda.is_available() else \"cpu\"\n",
        "state_dict = torch.load('first_model_state_dict.pt', map_location = device, weights_only=True)\n",
        "for k, v in state_dict.items():\n",
        "    print(f'{k} : {v}')"
      ]
    },
    {
      "cell_type": "code",
      "source": [
        "model.load_state_dict(state_dict['model_state_dict'])\n",
        "optimizer.load_state_dict(state_dict['optimizer_state_dict'])"
      ],
      "metadata": {
        "id": "WTh_O7-7C5Oq"
      },
      "id": "WTh_O7-7C5Oq",
      "execution_count": null,
      "outputs": []
    },
    {
      "cell_type": "markdown",
      "source": [
        "# 데이터세트 분리"
      ],
      "metadata": {
        "id": "5e14a7ec-56ac-483c-bc7d-51e5d0ef1618"
      },
      "id": "5e14a7ec-56ac-483c-bc7d-51e5d0ef1618"
    },
    {
      "cell_type": "code",
      "source": [
        "from torch.utils.data import random_split"
      ],
      "metadata": {
        "id": "x-GYWiQzC1V1"
      },
      "id": "x-GYWiQzC1V1",
      "execution_count": null,
      "outputs": []
    },
    {
      "cell_type": "markdown",
      "source": [
        "torch.utils.random_split(dataset, length, generator)"
      ],
      "metadata": {
        "id": "y3CtbEoAC3KM"
      },
      "id": "y3CtbEoAC3KM"
    },
    {
      "cell_type": "code",
      "source": [
        "dataset_size = len(dataset)\n",
        "train_size =  int(dataset_size * 0.8)\n",
        "val_size = int(dataset_size * 0.1)\n",
        "test_size = dataset_size - train_size - val_size\n",
        "\n",
        "train_dataset, val_dataset, test_dataset = random_split(dataset, [train_size, val_size, test_size])\n",
        "\n",
        "print(f\"Training Data Size : {len(train_dataset)}\")\n",
        "print(f\"Val Data Size : {len(val_dataset)}\")\n",
        "print(f\"Test Data Size : {len(test_dataset)}\")\n",
        "\n",
        "train_dataloader = DataLoader(train_dataset, batch_size = 16, shuffle = True, drop_last = True)\n",
        "val_dataloader = DataLoader(val_dataset, batch_size = 4, shuffle = True, drop_last = True)\n",
        "test_dataloader =  DataLoader(test_dataset, batch_size = 4, shuffle = True, drop_last = True)"
      ],
      "metadata": {
        "colab": {
          "base_uri": "https://localhost:8080/"
        },
        "id": "DhBxAnNOC3N7",
        "outputId": "43f84fc5-d567-4dd4-f145-2f1875661d59"
      },
      "id": "DhBxAnNOC3N7",
      "execution_count": null,
      "outputs": [
        {
          "output_type": "stream",
          "name": "stdout",
          "text": [
            "Training Data Size : 160\n",
            "Val Data Size : 20\n",
            "Test Data Size : 20\n"
          ]
        }
      ]
    },
    {
      "cell_type": "markdown",
      "id": "6bac0765-b213-4500-b915-bc2b3de989f7",
      "metadata": {
        "jp-MarkdownHeadingCollapsed": true,
        "id": "6bac0765-b213-4500-b915-bc2b3de989f7"
      },
      "source": [
        "# 이진분류"
      ]
    },
    {
      "cell_type": "code",
      "execution_count": null,
      "id": "241d4438-396d-4677-b596-ac77a5f4fc73",
      "metadata": {
        "scrolled": true,
        "colab": {
          "base_uri": "https://localhost:8080/",
          "height": 423
        },
        "id": "241d4438-396d-4677-b596-ac77a5f4fc73",
        "outputId": "430c96e2-87e7-4eed-fbd5-7c0336cae990"
      },
      "outputs": [
        {
          "output_type": "execute_result",
          "data": {
            "text/plain": [
              "      x   y    z   pass\n",
              "0    86  22    1  False\n",
              "1    81  75   91   True\n",
              "2    54  85   78   True\n",
              "3     5  58    4  False\n",
              "4    53  93  100   True\n",
              "..   ..  ..  ...    ...\n",
              "995  38  30   83  False\n",
              "996  73  78   85   True\n",
              "997  52  50   29  False\n",
              "998  60  66   16  False\n",
              "999  90  83   82   True\n",
              "\n",
              "[1000 rows x 4 columns]"
            ],
            "text/html": [
              "\n",
              "  <div id=\"df-ea4676a7-91af-4253-8322-7e6ca2340c10\" class=\"colab-df-container\">\n",
              "    <div>\n",
              "<style scoped>\n",
              "    .dataframe tbody tr th:only-of-type {\n",
              "        vertical-align: middle;\n",
              "    }\n",
              "\n",
              "    .dataframe tbody tr th {\n",
              "        vertical-align: top;\n",
              "    }\n",
              "\n",
              "    .dataframe thead th {\n",
              "        text-align: right;\n",
              "    }\n",
              "</style>\n",
              "<table border=\"1\" class=\"dataframe\">\n",
              "  <thead>\n",
              "    <tr style=\"text-align: right;\">\n",
              "      <th></th>\n",
              "      <th>x</th>\n",
              "      <th>y</th>\n",
              "      <th>z</th>\n",
              "      <th>pass</th>\n",
              "    </tr>\n",
              "  </thead>\n",
              "  <tbody>\n",
              "    <tr>\n",
              "      <th>0</th>\n",
              "      <td>86</td>\n",
              "      <td>22</td>\n",
              "      <td>1</td>\n",
              "      <td>False</td>\n",
              "    </tr>\n",
              "    <tr>\n",
              "      <th>1</th>\n",
              "      <td>81</td>\n",
              "      <td>75</td>\n",
              "      <td>91</td>\n",
              "      <td>True</td>\n",
              "    </tr>\n",
              "    <tr>\n",
              "      <th>2</th>\n",
              "      <td>54</td>\n",
              "      <td>85</td>\n",
              "      <td>78</td>\n",
              "      <td>True</td>\n",
              "    </tr>\n",
              "    <tr>\n",
              "      <th>3</th>\n",
              "      <td>5</td>\n",
              "      <td>58</td>\n",
              "      <td>4</td>\n",
              "      <td>False</td>\n",
              "    </tr>\n",
              "    <tr>\n",
              "      <th>4</th>\n",
              "      <td>53</td>\n",
              "      <td>93</td>\n",
              "      <td>100</td>\n",
              "      <td>True</td>\n",
              "    </tr>\n",
              "    <tr>\n",
              "      <th>...</th>\n",
              "      <td>...</td>\n",
              "      <td>...</td>\n",
              "      <td>...</td>\n",
              "      <td>...</td>\n",
              "    </tr>\n",
              "    <tr>\n",
              "      <th>995</th>\n",
              "      <td>38</td>\n",
              "      <td>30</td>\n",
              "      <td>83</td>\n",
              "      <td>False</td>\n",
              "    </tr>\n",
              "    <tr>\n",
              "      <th>996</th>\n",
              "      <td>73</td>\n",
              "      <td>78</td>\n",
              "      <td>85</td>\n",
              "      <td>True</td>\n",
              "    </tr>\n",
              "    <tr>\n",
              "      <th>997</th>\n",
              "      <td>52</td>\n",
              "      <td>50</td>\n",
              "      <td>29</td>\n",
              "      <td>False</td>\n",
              "    </tr>\n",
              "    <tr>\n",
              "      <th>998</th>\n",
              "      <td>60</td>\n",
              "      <td>66</td>\n",
              "      <td>16</td>\n",
              "      <td>False</td>\n",
              "    </tr>\n",
              "    <tr>\n",
              "      <th>999</th>\n",
              "      <td>90</td>\n",
              "      <td>83</td>\n",
              "      <td>82</td>\n",
              "      <td>True</td>\n",
              "    </tr>\n",
              "  </tbody>\n",
              "</table>\n",
              "<p>1000 rows × 4 columns</p>\n",
              "</div>\n",
              "    <div class=\"colab-df-buttons\">\n",
              "\n",
              "  <div class=\"colab-df-container\">\n",
              "    <button class=\"colab-df-convert\" onclick=\"convertToInteractive('df-ea4676a7-91af-4253-8322-7e6ca2340c10')\"\n",
              "            title=\"Convert this dataframe to an interactive table.\"\n",
              "            style=\"display:none;\">\n",
              "\n",
              "  <svg xmlns=\"http://www.w3.org/2000/svg\" height=\"24px\" viewBox=\"0 -960 960 960\">\n",
              "    <path d=\"M120-120v-720h720v720H120Zm60-500h600v-160H180v160Zm220 220h160v-160H400v160Zm0 220h160v-160H400v160ZM180-400h160v-160H180v160Zm440 0h160v-160H620v160ZM180-180h160v-160H180v160Zm440 0h160v-160H620v160Z\"/>\n",
              "  </svg>\n",
              "    </button>\n",
              "\n",
              "  <style>\n",
              "    .colab-df-container {\n",
              "      display:flex;\n",
              "      gap: 12px;\n",
              "    }\n",
              "\n",
              "    .colab-df-convert {\n",
              "      background-color: #E8F0FE;\n",
              "      border: none;\n",
              "      border-radius: 50%;\n",
              "      cursor: pointer;\n",
              "      display: none;\n",
              "      fill: #1967D2;\n",
              "      height: 32px;\n",
              "      padding: 0 0 0 0;\n",
              "      width: 32px;\n",
              "    }\n",
              "\n",
              "    .colab-df-convert:hover {\n",
              "      background-color: #E2EBFA;\n",
              "      box-shadow: 0px 1px 2px rgba(60, 64, 67, 0.3), 0px 1px 3px 1px rgba(60, 64, 67, 0.15);\n",
              "      fill: #174EA6;\n",
              "    }\n",
              "\n",
              "    .colab-df-buttons div {\n",
              "      margin-bottom: 4px;\n",
              "    }\n",
              "\n",
              "    [theme=dark] .colab-df-convert {\n",
              "      background-color: #3B4455;\n",
              "      fill: #D2E3FC;\n",
              "    }\n",
              "\n",
              "    [theme=dark] .colab-df-convert:hover {\n",
              "      background-color: #434B5C;\n",
              "      box-shadow: 0px 1px 3px 1px rgba(0, 0, 0, 0.15);\n",
              "      filter: drop-shadow(0px 1px 2px rgba(0, 0, 0, 0.3));\n",
              "      fill: #FFFFFF;\n",
              "    }\n",
              "  </style>\n",
              "\n",
              "    <script>\n",
              "      const buttonEl =\n",
              "        document.querySelector('#df-ea4676a7-91af-4253-8322-7e6ca2340c10 button.colab-df-convert');\n",
              "      buttonEl.style.display =\n",
              "        google.colab.kernel.accessAllowed ? 'block' : 'none';\n",
              "\n",
              "      async function convertToInteractive(key) {\n",
              "        const element = document.querySelector('#df-ea4676a7-91af-4253-8322-7e6ca2340c10');\n",
              "        const dataTable =\n",
              "          await google.colab.kernel.invokeFunction('convertToInteractive',\n",
              "                                                    [key], {});\n",
              "        if (!dataTable) return;\n",
              "\n",
              "        const docLinkHtml = 'Like what you see? Visit the ' +\n",
              "          '<a target=\"_blank\" href=https://colab.research.google.com/notebooks/data_table.ipynb>data table notebook</a>'\n",
              "          + ' to learn more about interactive tables.';\n",
              "        element.innerHTML = '';\n",
              "        dataTable['output_type'] = 'display_data';\n",
              "        await google.colab.output.renderOutput(dataTable, element);\n",
              "        const docLink = document.createElement('div');\n",
              "        docLink.innerHTML = docLinkHtml;\n",
              "        element.appendChild(docLink);\n",
              "      }\n",
              "    </script>\n",
              "  </div>\n",
              "\n",
              "\n",
              "<div id=\"df-30dbd6cb-c650-4149-bf2d-256fa85e7404\">\n",
              "  <button class=\"colab-df-quickchart\" onclick=\"quickchart('df-30dbd6cb-c650-4149-bf2d-256fa85e7404')\"\n",
              "            title=\"Suggest charts\"\n",
              "            style=\"display:none;\">\n",
              "\n",
              "<svg xmlns=\"http://www.w3.org/2000/svg\" height=\"24px\"viewBox=\"0 0 24 24\"\n",
              "     width=\"24px\">\n",
              "    <g>\n",
              "        <path d=\"M19 3H5c-1.1 0-2 .9-2 2v14c0 1.1.9 2 2 2h14c1.1 0 2-.9 2-2V5c0-1.1-.9-2-2-2zM9 17H7v-7h2v7zm4 0h-2V7h2v10zm4 0h-2v-4h2v4z\"/>\n",
              "    </g>\n",
              "</svg>\n",
              "  </button>\n",
              "\n",
              "<style>\n",
              "  .colab-df-quickchart {\n",
              "      --bg-color: #E8F0FE;\n",
              "      --fill-color: #1967D2;\n",
              "      --hover-bg-color: #E2EBFA;\n",
              "      --hover-fill-color: #174EA6;\n",
              "      --disabled-fill-color: #AAA;\n",
              "      --disabled-bg-color: #DDD;\n",
              "  }\n",
              "\n",
              "  [theme=dark] .colab-df-quickchart {\n",
              "      --bg-color: #3B4455;\n",
              "      --fill-color: #D2E3FC;\n",
              "      --hover-bg-color: #434B5C;\n",
              "      --hover-fill-color: #FFFFFF;\n",
              "      --disabled-bg-color: #3B4455;\n",
              "      --disabled-fill-color: #666;\n",
              "  }\n",
              "\n",
              "  .colab-df-quickchart {\n",
              "    background-color: var(--bg-color);\n",
              "    border: none;\n",
              "    border-radius: 50%;\n",
              "    cursor: pointer;\n",
              "    display: none;\n",
              "    fill: var(--fill-color);\n",
              "    height: 32px;\n",
              "    padding: 0;\n",
              "    width: 32px;\n",
              "  }\n",
              "\n",
              "  .colab-df-quickchart:hover {\n",
              "    background-color: var(--hover-bg-color);\n",
              "    box-shadow: 0 1px 2px rgba(60, 64, 67, 0.3), 0 1px 3px 1px rgba(60, 64, 67, 0.15);\n",
              "    fill: var(--button-hover-fill-color);\n",
              "  }\n",
              "\n",
              "  .colab-df-quickchart-complete:disabled,\n",
              "  .colab-df-quickchart-complete:disabled:hover {\n",
              "    background-color: var(--disabled-bg-color);\n",
              "    fill: var(--disabled-fill-color);\n",
              "    box-shadow: none;\n",
              "  }\n",
              "\n",
              "  .colab-df-spinner {\n",
              "    border: 2px solid var(--fill-color);\n",
              "    border-color: transparent;\n",
              "    border-bottom-color: var(--fill-color);\n",
              "    animation:\n",
              "      spin 1s steps(1) infinite;\n",
              "  }\n",
              "\n",
              "  @keyframes spin {\n",
              "    0% {\n",
              "      border-color: transparent;\n",
              "      border-bottom-color: var(--fill-color);\n",
              "      border-left-color: var(--fill-color);\n",
              "    }\n",
              "    20% {\n",
              "      border-color: transparent;\n",
              "      border-left-color: var(--fill-color);\n",
              "      border-top-color: var(--fill-color);\n",
              "    }\n",
              "    30% {\n",
              "      border-color: transparent;\n",
              "      border-left-color: var(--fill-color);\n",
              "      border-top-color: var(--fill-color);\n",
              "      border-right-color: var(--fill-color);\n",
              "    }\n",
              "    40% {\n",
              "      border-color: transparent;\n",
              "      border-right-color: var(--fill-color);\n",
              "      border-top-color: var(--fill-color);\n",
              "    }\n",
              "    60% {\n",
              "      border-color: transparent;\n",
              "      border-right-color: var(--fill-color);\n",
              "    }\n",
              "    80% {\n",
              "      border-color: transparent;\n",
              "      border-right-color: var(--fill-color);\n",
              "      border-bottom-color: var(--fill-color);\n",
              "    }\n",
              "    90% {\n",
              "      border-color: transparent;\n",
              "      border-bottom-color: var(--fill-color);\n",
              "    }\n",
              "  }\n",
              "</style>\n",
              "\n",
              "  <script>\n",
              "    async function quickchart(key) {\n",
              "      const quickchartButtonEl =\n",
              "        document.querySelector('#' + key + ' button');\n",
              "      quickchartButtonEl.disabled = true;  // To prevent multiple clicks.\n",
              "      quickchartButtonEl.classList.add('colab-df-spinner');\n",
              "      try {\n",
              "        const charts = await google.colab.kernel.invokeFunction(\n",
              "            'suggestCharts', [key], {});\n",
              "      } catch (error) {\n",
              "        console.error('Error during call to suggestCharts:', error);\n",
              "      }\n",
              "      quickchartButtonEl.classList.remove('colab-df-spinner');\n",
              "      quickchartButtonEl.classList.add('colab-df-quickchart-complete');\n",
              "    }\n",
              "    (() => {\n",
              "      let quickchartButtonEl =\n",
              "        document.querySelector('#df-30dbd6cb-c650-4149-bf2d-256fa85e7404 button');\n",
              "      quickchartButtonEl.style.display =\n",
              "        google.colab.kernel.accessAllowed ? 'block' : 'none';\n",
              "    })();\n",
              "  </script>\n",
              "</div>\n",
              "\n",
              "    </div>\n",
              "  </div>\n"
            ],
            "application/vnd.google.colaboratory.intrinsic+json": {
              "type": "dataframe",
              "summary": "{\n  \"name\": \"pd\",\n  \"rows\": 1000,\n  \"fields\": [\n    {\n      \"column\": \"x\",\n      \"properties\": {\n        \"dtype\": \"number\",\n        \"std\": 27,\n        \"min\": 0,\n        \"max\": 100,\n        \"num_unique_values\": 101,\n        \"samples\": [\n          88,\n          46,\n          34\n        ],\n        \"semantic_type\": \"\",\n        \"description\": \"\"\n      }\n    },\n    {\n      \"column\": \"y\",\n      \"properties\": {\n        \"dtype\": \"number\",\n        \"std\": 26,\n        \"min\": 0,\n        \"max\": 100,\n        \"num_unique_values\": 101,\n        \"samples\": [\n          82,\n          55,\n          60\n        ],\n        \"semantic_type\": \"\",\n        \"description\": \"\"\n      }\n    },\n    {\n      \"column\": \"z\",\n      \"properties\": {\n        \"dtype\": \"number\",\n        \"std\": 27,\n        \"min\": 0,\n        \"max\": 100,\n        \"num_unique_values\": 101,\n        \"samples\": [\n          9,\n          11,\n          71\n        ],\n        \"semantic_type\": \"\",\n        \"description\": \"\"\n      }\n    },\n    {\n      \"column\": \"pass\",\n      \"properties\": {\n        \"dtype\": \"boolean\",\n        \"num_unique_values\": 2,\n        \"samples\": [\n          true,\n          false\n        ],\n        \"semantic_type\": \"\",\n        \"description\": \"\"\n      }\n    }\n  ]\n}"
            }
          },
          "metadata": {},
          "execution_count": 101
        }
      ],
      "source": [
        "import pandas as pd\n",
        "pd.read_csv('./binary.csv')"
      ]
    },
    {
      "cell_type": "code",
      "execution_count": null,
      "id": "6e1356b1-eac1-4a42-9826-b3fe7f8fc1f2",
      "metadata": {
        "id": "6e1356b1-eac1-4a42-9826-b3fe7f8fc1f2"
      },
      "outputs": [],
      "source": [
        "import torch\n",
        "import pandas as pd\n",
        "from torch import nn\n",
        "from torch import optim\n",
        "from torch.utils.data import Dataset, DataLoader, random_split"
      ]
    },
    {
      "cell_type": "code",
      "execution_count": null,
      "id": "705795a5-e7b8-44f7-bc2d-81f1633f6d5c",
      "metadata": {
        "id": "705795a5-e7b8-44f7-bc2d-81f1633f6d5c"
      },
      "outputs": [],
      "source": [
        "class CustomDataset(Dataset):\n",
        "    def __init__(self, file_path):\n",
        "        df = pd.read_csv(file_path)\n",
        "        self.x1 = df.iloc[:,0].values\n",
        "        self.x2 = df.iloc[:,1].values\n",
        "        self.x3 = df.iloc[:,2].values\n",
        "        self.y = df.iloc[:,3].values\n",
        "        self.length = len(df)\n",
        "\n",
        "    def __getitem__(self, index):\n",
        "        x = torch.FloatTensor([self.x1[index], self.x2[index], self.x3[index]])\n",
        "        # BCELoss를 사용하므로\n",
        "        y = torch.FloatTensor([int(self.y[index])])\n",
        "        return x,y\n",
        "\n",
        "    def __len__(self):\n",
        "        return self.length\n",
        "\n",
        "class CustomModel(nn.Module):\n",
        "    def __init__(self):\n",
        "        super().__init__()\n",
        "        self.layer = nn.Sequential(\n",
        "            nn.Linear(3,1),\n",
        "            nn.Sigmoid()\n",
        "        )\n",
        "\n",
        "    def forward(self, x):\n",
        "        x = self.layer(x)\n",
        "        return x"
      ]
    },
    {
      "cell_type": "code",
      "execution_count": null,
      "id": "7e91cc56-db2e-4542-918e-27a2efe0cb9e",
      "metadata": {
        "colab": {
          "base_uri": "https://localhost:8080/"
        },
        "id": "7e91cc56-db2e-4542-918e-27a2efe0cb9e",
        "outputId": "fec5872c-87d2-4394-80b5-ec71f5d87b3c"
      },
      "outputs": [
        {
          "output_type": "stream",
          "name": "stdout",
          "text": [
            "600\n",
            "200\n",
            "200\n"
          ]
        }
      ],
      "source": [
        "dataset = CustomDataset('./binary.csv')\n",
        "dataset_size = len(dataset)\n",
        "train_size = int(dataset_size * 0.6)\n",
        "val_size = int(dataset_size * 0.2)\n",
        "test_size = dataset_size - train_size - val_size\n",
        "\n",
        "print(train_size)\n",
        "print(val_size)\n",
        "print(test_size)\n",
        "\n",
        "train_dataset, val_dataset, test_dataset = random_split(dataset, [train_size, val_size, test_size], torch.manual_seed(4))\n",
        "train_dataloader = DataLoader(train_dataset, batch_size = 64, shuffle = True, drop_last = True)\n",
        "val_dataloader = DataLoader(val_dataset, batch_size = 4, shuffle = True, drop_last = True)\n",
        "test_dataloader = DataLoader(test_dataset, batch_size = 4, shuffle = True, drop_last = True)\n",
        "\n",
        "device = \"cuda\" if torch.cuda.is_available() else \"cpu\"\n",
        "model = CustomModel().to(device)\n",
        "criterion = nn.BCELoss().to(device)\n",
        "optimizer = optim.Adam(model.parameters(), lr = 0.001)"
      ]
    },
    {
      "cell_type": "markdown",
      "source": [
        "<img src = 'https://velog.velcdn.com/images/sanha9999/post/ed85f80c-b133-4d7a-a8c3-c677a3bc239d/image.png'>"
      ],
      "metadata": {
        "id": "D3zpAOP6D-IS"
      },
      "id": "D3zpAOP6D-IS"
    },
    {
      "cell_type": "code",
      "execution_count": null,
      "id": "2faedd95-853f-49fb-a40e-554cadbfd59e",
      "metadata": {
        "scrolled": true,
        "id": "2faedd95-853f-49fb-a40e-554cadbfd59e"
      },
      "outputs": [],
      "source": [
        "def training(dataloader, model, criterion, optimizer, device):\n",
        "  model.train()\n",
        "  iter_cost = 0.0\n",
        "  iter_acc = 0\n",
        "  for x,y in dataloader:\n",
        "    x = x.to(device)\n",
        "    y = y.to(device)\n",
        "\n",
        "    output = model(x)\n",
        "    loss = criterion(output, y)\n",
        "\n",
        "    optimizer.zero_grad()\n",
        "    loss.backward()\n",
        "    optimizer.step()\n",
        "\n",
        "    iter_cost += loss.item()\n",
        "\n",
        "    prediction = (output.to('cpu') >= 0.5).int()\n",
        "    iter_acc += (prediction == y.to('cpu')).sum()\n",
        "\n",
        "  cost = iter_cost / len(dataloader)\n",
        "  acc = iter_acc / len(dataloader.dataset)\n",
        "  return cost, acc\n",
        "\n",
        "def evaluation(dataloader, model, criterion, device):\n",
        "  model.eval()\n",
        "  iter_cost = 0.0\n",
        "  with torch.no_grad():\n",
        "    for x,y in dataloader:\n",
        "      x = x.to(device)\n",
        "      y = y.to(device)\n",
        "\n",
        "      output = model(x)\n",
        "      loss = criterion(output, y)\n",
        "\n",
        "      optimizer.zero_grad()\n",
        "      loss.backward()\n",
        "      optimizer.step()\n",
        "\n",
        "      iter_cost += loss.item()\n",
        "\n",
        "      prediction = (output.to('cpu') >= 0.5).int()\n",
        "      iter_acc += (prediction == y.to('cpu')).sum()\n",
        "\n",
        "  cost = iter_cost / len(dataloader)\n",
        "  acc = iter_acc / len(dataloader.dataset)\n",
        "  return cost"
      ]
    },
    {
      "cell_type": "code",
      "source": [
        "from tqdm.notebook import tqdm"
      ],
      "metadata": {
        "id": "DQNi2dvOFoge"
      },
      "id": "DQNi2dvOFoge",
      "execution_count": null,
      "outputs": []
    },
    {
      "cell_type": "code",
      "execution_count": null,
      "id": "1e43db7d-5af1-45da-9891-af05a3cedee2",
      "metadata": {
        "scrolled": true,
        "colab": {
          "base_uri": "https://localhost:8080/",
          "height": 49,
          "referenced_widgets": [
            "b1e0a727889e47cfa9248c98c2c2e3c9",
            "ab9a7d51cac543acb6b48db305101c9c",
            "a75224241d4f4d5d8bebd5902f49eb29",
            "fd4106585d284be985a9711a7afa5a37",
            "7aaca8f5bcdd4172bf80b8c9646e83e9",
            "3c6a6f5d4dd04abc9c413dd776d1d31c",
            "fcb342aba84f4a70b08918a54c7f67db",
            "8cfb70733dd545b0a7072dd9393e1255",
            "10d2bfda22ce4ceda29ba9c80b398035",
            "5d3b6da4997f40478ca8c2abcde17695",
            "998c1319d4f04920a247cf8ff7b9ff8f"
          ]
        },
        "id": "1e43db7d-5af1-45da-9891-af05a3cedee2",
        "outputId": "b528d041-4e93-4b0b-8f7e-f4c479b5f61a"
      },
      "outputs": [
        {
          "output_type": "display_data",
          "data": {
            "text/plain": [
              "  0%|          | 0/500 [00:00<?, ?it/s]"
            ],
            "application/vnd.jupyter.widget-view+json": {
              "version_major": 2,
              "version_minor": 0,
              "model_id": "b1e0a727889e47cfa9248c98c2c2e3c9"
            }
          },
          "metadata": {}
        }
      ],
      "source": [
        "low_acc = 0\n",
        "train_cost_lst = []\n",
        "train_acc_lst = []\n",
        "val_cost_lst = []\n",
        "val_acc_lst = []\n",
        "\n",
        "for epoch in tqdm(range(500)):\n",
        "  train_cost, train_acc = training(train_dataloader, model, criterion, optimizer, device)\n",
        "  val_cost, val_acc = training(train_dataloader, model, criterion, optimizer, device)\n",
        "\n",
        "  train_cost_lst.append(train_cost)\n",
        "  train_acc_lst.append(train_acc)\n",
        "  val_cost_lst.append(val_cost)\n",
        "  val_acc_lst.append(val_acc)\n",
        "\n",
        "  if low_acc < val_acc:\n",
        "    low_acc = val_acc\n",
        "    torch.save(\n",
        "        {\n",
        "            \"epoch\" : epoch + 1,\n",
        "            \"model_state_dict\" : model.state_dict(),\n",
        "            \"optimizer_state_dict\" : optimizer.state_dict(),\n",
        "            \"train_cost\" : train_cost,\n",
        "            \"val_cost\" : val_cost,\n",
        "            \"train_acc\" : f'{train_acc * 100:.2f}%',\n",
        "            \"val_acc\" : f'{val_acc * 100:.2f}%'\n",
        "        },\n",
        "        './best_pt.pt'\n",
        "    )"
      ]
    },
    {
      "cell_type": "code",
      "source": [
        "state_dict = torch.load('best_pt.pt', map_location = device, weights_only = True)\n",
        "print(state_dict)\n",
        "best_epoch = state_dict['epoch']"
      ],
      "metadata": {
        "colab": {
          "base_uri": "https://localhost:8080/"
        },
        "id": "3y0ZxF8mHu8s",
        "outputId": "3fa01b9c-e480-48ac-b8ed-bf3368cf55e8"
      },
      "id": "3y0ZxF8mHu8s",
      "execution_count": null,
      "outputs": [
        {
          "output_type": "stream",
          "name": "stdout",
          "text": [
            "{'epoch': 440, 'model_state_dict': OrderedDict([('layer.0.weight', tensor([[0.0267, 0.0300, 0.0263]])), ('layer.0.bias', tensor([-4.8466]))]), 'optimizer_state_dict': {'state': {0: {'step': tensor(7920.), 'exp_avg': tensor([[-0.7792, -0.8220, -0.8412]]), 'exp_avg_sq': tensor([[8.3024, 8.8143, 8.5087]])}, 1: {'step': tensor(7920.), 'exp_avg': tensor([0.0203]), 'exp_avg_sq': tensor([0.0035])}}, 'param_groups': [{'lr': 0.001, 'betas': (0.9, 0.999), 'eps': 1e-08, 'weight_decay': 0, 'amsgrad': False, 'maximize': False, 'foreach': None, 'capturable': False, 'differentiable': False, 'fused': None, 'params': [0, 1]}]}, 'train_cost': 0.36413268910513985, 'val_cost': 0.358692553308275, 'train_acc': '84.50%', 'val_acc': '87.83%'}\n"
          ]
        }
      ]
    },
    {
      "cell_type": "code",
      "source": [
        "plt.figure(figsize = (15,7))\n",
        "plt.subplot(1,2,1)\n",
        "plt.plot(train_cost_lst, label = 'train_cost')\n",
        "plt.plot(val_cost_lst, label = 'val_cost')\n",
        "plt.legend(frameon = False)\n",
        "plt.xticks([0,249,499],[1,250,500])\n",
        "plt.xlim(0,500)\n",
        "plt.xlabel('[Epoch]', loc = 'right')\n",
        "plt.ylabel('[Cost]', rotation = 360, loc = 'top')\n",
        "plt.title('Cost', loc = 'center')\n",
        "plt.axvline(best_epoch, color = 'red')\n",
        "plt.subplot(1,2,2)\n",
        "plt.plot(train_acc_lst, label = 'train_acc')\n",
        "plt.plot(val_acc_lst, label = 'val_acc')\n",
        "plt.legend(frameon = False)\n",
        "plt.xticks([0,249,499],[1,250,500])\n",
        "plt.xlim(0,500)\n",
        "plt.xlabel('[Epoch]', loc = 'right')\n",
        "plt.ylabel('[Acc]', rotation = 360, loc = 'top')\n",
        "plt.title('Accuracy', loc = 'center')\n",
        "plt.axvline(best_epoch, color = 'red')\n",
        "plt.suptitle('Binary Classification training graph')\n",
        "plt.show()"
      ],
      "metadata": {
        "colab": {
          "base_uri": "https://localhost:8080/",
          "height": 640
        },
        "id": "zru6UXWlFwCO",
        "outputId": "aba7ea59-0b75-413a-adb7-694277c87b07"
      },
      "id": "zru6UXWlFwCO",
      "execution_count": null,
      "outputs": [
        {
          "output_type": "display_data",
          "data": {
            "text/plain": [
              "<Figure size 1500x700 with 2 Axes>"
            ],
            "image/png": "[encoded data removed]"
          },
          "metadata": {}
        }
      ]
    },
    {
      "cell_type": "code",
      "source": [
        "model.load_state_dict(state_dict['model_state_dict'])\n",
        "test_cost, test_acc = training(test_dataloader, model, criterion, optimizer, device)\n",
        "print(test_cost)\n",
        "print(f'{test_acc*100:.2f}%')"
      ],
      "metadata": {
        "colab": {
          "base_uri": "https://localhost:8080/"
        },
        "id": "e2pfK9jiJAXj",
        "outputId": "ad303c8e-bf9b-4ae7-92da-09e75ff48cbd"
      },
      "id": "e2pfK9jiJAXj",
      "execution_count": null,
      "outputs": [
        {
          "output_type": "stream",
          "name": "stdout",
          "text": [
            "0.34508208379149435\n",
            "92.50%\n"
          ]
        }
      ]
    },
    {
      "cell_type": "markdown",
      "id": "08d49909-499a-4301-9bb8-f75f0b2dc05e",
      "metadata": {
        "id": "08d49909-499a-4301-9bb8-f75f0b2dc05e"
      },
      "source": [
        "# END(2023-09-18)"
      ]
    }
  ],
  "metadata": {
    "kernelspec": {
      "display_name": "DS_kernel",
      "language": "python",
      "name": "ds_env"
    },
    "language_info": {
      "codemirror_mode": {
        "name": "ipython",
        "version": 3
      },
      "file_extension": ".py",
      "mimetype": "text/x-python",
      "name": "python",
      "nbconvert_exporter": "python",
      "pygments_lexer": "ipython3",
      "version": "3.9.18"
    },
    "colab": {
      "provenance": [],
      "collapsed_sections": [
        "1d402322-f0dd-42fc-bbb4-36cbc8d16ad6",
        "7df2d39b-35a2-40f7-945c-c76b9df38e03",
        "DP1RklXI2-my",
        "83afb9b2-860c-4fd5-bae4-d3d4ee5b10ab",
        "849515f2-bf78-4bc8-a11e-c7b13a943bb5",
        "57e0c23e-035f-41e7-820a-158ad0d0c70d",
        "8f9df3d2-66cb-4a6d-b8f9-c35eca5ab2f8",
        "5e14a7ec-56ac-483c-bc7d-51e5d0ef1618"
      ]
    },
    "widgets": {
      "application/vnd.jupyter.widget-state+json": {
        "b1e0a727889e47cfa9248c98c2c2e3c9": {
          "model_module": "@jupyter-widgets/controls",
          "model_name": "HBoxModel",
          "model_module_version": "1.5.0",
          "state": {
            "_dom_classes": [],
            "_model_module": "@jupyter-widgets/controls",
            "_model_module_version": "1.5.0",
            "_model_name": "HBoxModel",
            "_view_count": null,
            "_view_module": "@jupyter-widgets/controls",
            "_view_module_version": "1.5.0",
            "_view_name": "HBoxView",
            "box_style": "",
            "children": [
              "IPY_MODEL_ab9a7d51cac543acb6b48db305101c9c",
              "IPY_MODEL_a75224241d4f4d5d8bebd5902f49eb29",
              "IPY_MODEL_fd4106585d284be985a9711a7afa5a37"
            ],
            "layout": "IPY_MODEL_7aaca8f5bcdd4172bf80b8c9646e83e9"
          }
        },
        "ab9a7d51cac543acb6b48db305101c9c": {
          "model_module": "@jupyter-widgets/controls",
          "model_name": "HTMLModel",
          "model_module_version": "1.5.0",
          "state": {
            "_dom_classes": [],
            "_model_module": "@jupyter-widgets/controls",
            "_model_module_version": "1.5.0",
            "_model_name": "HTMLModel",
            "_view_count": null,
            "_view_module": "@jupyter-widgets/controls",
            "_view_module_version": "1.5.0",
            "_view_name": "HTMLView",
            "description": "",
            "description_tooltip": null,
            "layout": "IPY_MODEL_3c6a6f5d4dd04abc9c413dd776d1d31c",
            "placeholder": "​",
            "style": "IPY_MODEL_fcb342aba84f4a70b08918a54c7f67db",
            "value": "100%"
          }
        },
        "a75224241d4f4d5d8bebd5902f49eb29": {
          "model_module": "@jupyter-widgets/controls",
          "model_name": "FloatProgressModel",
          "model_module_version": "1.5.0",
          "state": {
            "_dom_classes": [],
            "_model_module": "@jupyter-widgets/controls",
            "_model_module_version": "1.5.0",
            "_model_name": "FloatProgressModel",
            "_view_count": null,
            "_view_module": "@jupyter-widgets/controls",
            "_view_module_version": "1.5.0",
            "_view_name": "ProgressView",
            "bar_style": "success",
            "description": "",
            "description_tooltip": null,
            "layout": "IPY_MODEL_8cfb70733dd545b0a7072dd9393e1255",
            "max": 500,
            "min": 0,
            "orientation": "horizontal",
            "style": "IPY_MODEL_10d2bfda22ce4ceda29ba9c80b398035",
            "value": 500
          }
        },
        "fd4106585d284be985a9711a7afa5a37": {
          "model_module": "@jupyter-widgets/controls",
          "model_name": "HTMLModel",
          "model_module_version": "1.5.0",
          "state": {
            "_dom_classes": [],
            "_model_module": "@jupyter-widgets/controls",
            "_model_module_version": "1.5.0",
            "_model_name": "HTMLModel",
            "_view_count": null,
            "_view_module": "@jupyter-widgets/controls",
            "_view_module_version": "1.5.0",
            "_view_name": "HTMLView",
            "description": "",
            "description_tooltip": null,
            "layout": "IPY_MODEL_5d3b6da4997f40478ca8c2abcde17695",
            "placeholder": "​",
            "style": "IPY_MODEL_998c1319d4f04920a247cf8ff7b9ff8f",
            "value": " 500/500 [00:23&lt;00:00, 22.24it/s]"
          }
        },
        "7aaca8f5bcdd4172bf80b8c9646e83e9": {
          "model_module": "@jupyter-widgets/base",
          "model_name": "LayoutModel",
          "model_module_version": "1.2.0",
          "state": {
            "_model_module": "@jupyter-widgets/base",
            "_model_module_version": "1.2.0",
            "_model_name": "LayoutModel",
            "_view_count": null,
            "_view_module": "@jupyter-widgets/base",
            "_view_module_version": "1.2.0",
            "_view_name": "LayoutView",
            "align_content": null,
            "align_items": null,
            "align_self": null,
            "border": null,
            "bottom": null,
            "display": null,
            "flex": null,
            "flex_flow": null,
            "grid_area": null,
            "grid_auto_columns": null,
            "grid_auto_flow": null,
            "grid_auto_rows": null,
            "grid_column": null,
            "grid_gap": null,
            "grid_row": null,
            "grid_template_areas": null,
            "grid_template_columns": null,
            "grid_template_rows": null,
            "height": null,
            "justify_content": null,
            "justify_items": null,
            "left": null,
            "margin": null,
            "max_height": null,
            "max_width": null,
            "min_height": null,
            "min_width": null,
            "object_fit": null,
            "object_position": null,
            "order": null,
            "overflow": null,
            "overflow_x": null,
            "overflow_y": null,
            "padding": null,
            "right": null,
            "top": null,
            "visibility": null,
            "width": null
          }
        },
        "3c6a6f5d4dd04abc9c413dd776d1d31c": {
          "model_module": "@jupyter-widgets/base",
          "model_name": "LayoutModel",
          "model_module_version": "1.2.0",
          "state": {
            "_model_module": "@jupyter-widgets/base",
            "_model_module_version": "1.2.0",
            "_model_name": "LayoutModel",
            "_view_count": null,
            "_view_module": "@jupyter-widgets/base",
            "_view_module_version": "1.2.0",
            "_view_name": "LayoutView",
            "align_content": null,
            "align_items": null,
            "align_self": null,
            "border": null,
            "bottom": null,
            "display": null,
            "flex": null,
            "flex_flow": null,
            "grid_area": null,
            "grid_auto_columns": null,
            "grid_auto_flow": null,
            "grid_auto_rows": null,
            "grid_column": null,
            "grid_gap": null,
            "grid_row": null,
            "grid_template_areas": null,
            "grid_template_columns": null,
            "grid_template_rows": null,
            "height": null,
            "justify_content": null,
            "justify_items": null,
            "left": null,
            "margin": null,
            "max_height": null,
            "max_width": null,
            "min_height": null,
            "min_width": null,
            "object_fit": null,
            "object_position": null,
            "order": null,
            "overflow": null,
            "overflow_x": null,
            "overflow_y": null,
            "padding": null,
            "right": null,
            "top": null,
            "visibility": null,
            "width": null
          }
        },
        "fcb342aba84f4a70b08918a54c7f67db": {
          "model_module": "@jupyter-widgets/controls",
          "model_name": "DescriptionStyleModel",
          "model_module_version": "1.5.0",
          "state": {
            "_model_module": "@jupyter-widgets/controls",
            "_model_module_version": "1.5.0",
            "_model_name": "DescriptionStyleModel",
            "_view_count": null,
            "_view_module": "@jupyter-widgets/base",
            "_view_module_version": "1.2.0",
            "_view_name": "StyleView",
            "description_width": ""
          }
        },
        "8cfb70733dd545b0a7072dd9393e1255": {
          "model_module": "@jupyter-widgets/base",
          "model_name": "LayoutModel",
          "model_module_version": "1.2.0",
          "state": {
            "_model_module": "@jupyter-widgets/base",
            "_model_module_version": "1.2.0",
            "_model_name": "LayoutModel",
            "_view_count": null,
            "_view_module": "@jupyter-widgets/base",
            "_view_module_version": "1.2.0",
            "_view_name": "LayoutView",
            "align_content": null,
            "align_items": null,
            "align_self": null,
            "border": null,
            "bottom": null,
            "display": null,
            "flex": null,
            "flex_flow": null,
            "grid_area": null,
            "grid_auto_columns": null,
            "grid_auto_flow": null,
            "grid_auto_rows": null,
            "grid_column": null,
            "grid_gap": null,
            "grid_row": null,
            "grid_template_areas": null,
            "grid_template_columns": null,
            "grid_template_rows": null,
            "height": null,
            "justify_content": null,
            "justify_items": null,
            "left": null,
            "margin": null,
            "max_height": null,
            "max_width": null,
            "min_height": null,
            "min_width": null,
            "object_fit": null,
            "object_position": null,
            "order": null,
            "overflow": null,
            "overflow_x": null,
            "overflow_y": null,
            "padding": null,
            "right": null,
            "top": null,
            "visibility": null,
            "width": null
          }
        },
        "10d2bfda22ce4ceda29ba9c80b398035": {
          "model_module": "@jupyter-widgets/controls",
          "model_name": "ProgressStyleModel",
          "model_module_version": "1.5.0",
          "state": {
            "_model_module": "@jupyter-widgets/controls",
            "_model_module_version": "1.5.0",
            "_model_name": "ProgressStyleModel",
            "_view_count": null,
            "_view_module": "@jupyter-widgets/base",
            "_view_module_version": "1.2.0",
            "_view_name": "StyleView",
            "bar_color": null,
            "description_width": ""
          }
        },
        "5d3b6da4997f40478ca8c2abcde17695": {
          "model_module": "@jupyter-widgets/base",
          "model_name": "LayoutModel",
          "model_module_version": "1.2.0",
          "state": {
            "_model_module": "@jupyter-widgets/base",
            "_model_module_version": "1.2.0",
            "_model_name": "LayoutModel",
            "_view_count": null,
            "_view_module": "@jupyter-widgets/base",
            "_view_module_version": "1.2.0",
            "_view_name": "LayoutView",
            "align_content": null,
            "align_items": null,
            "align_self": null,
            "border": null,
            "bottom": null,
            "display": null,
            "flex": null,
            "flex_flow": null,
            "grid_area": null,
            "grid_auto_columns": null,
            "grid_auto_flow": null,
            "grid_auto_rows": null,
            "grid_column": null,
            "grid_gap": null,
            "grid_row": null,
            "grid_template_areas": null,
            "grid_template_columns": null,
            "grid_template_rows": null,
            "height": null,
            "justify_content": null,
            "justify_items": null,
            "left": null,
            "margin": null,
            "max_height": null,
            "max_width": null,
            "min_height": null,
            "min_width": null,
            "object_fit": null,
            "object_position": null,
            "order": null,
            "overflow": null,
            "overflow_x": null,
            "overflow_y": null,
            "padding": null,
            "right": null,
            "top": null,
            "visibility": null,
            "width": null
          }
        },
        "998c1319d4f04920a247cf8ff7b9ff8f": {
          "model_module": "@jupyter-widgets/controls",
          "model_name": "DescriptionStyleModel",
          "model_module_version": "1.5.0",
          "state": {
            "_model_module": "@jupyter-widgets/controls",
            "_model_module_version": "1.5.0",
            "_model_name": "DescriptionStyleModel",
            "_view_count": null,
            "_view_module": "@jupyter-widgets/base",
            "_view_module_version": "1.2.0",
            "_view_name": "StyleView",
            "description_width": ""
          }
        }
      }
    }
  },
  "nbformat": 4,
  "nbformat_minor": 5
}